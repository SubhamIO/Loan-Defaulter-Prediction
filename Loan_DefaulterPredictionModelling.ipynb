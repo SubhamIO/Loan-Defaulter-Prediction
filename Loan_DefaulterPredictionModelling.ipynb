{
  "nbformat": 4,
  "nbformat_minor": 0,
  "metadata": {
    "colab": {
      "name": "Loan DefaulterPredictionModelling.ipynb",
      "provenance": [],
      "collapsed_sections": []
    },
    "kernelspec": {
      "name": "python3",
      "display_name": "Python 3"
    },
    "accelerator": "GPU"
  },
  "cells": [
    {
      "cell_type": "markdown",
      "metadata": {
        "id": "BhmZb1xjaOeA",
        "colab_type": "text"
      },
      "source": [
        "# Loan Defaulter Prediction\n",
        "\n",
        "## Problem Statement\n",
        "- The Bank Indessa has not done well in last 3 quarters. Their NPAs (Non Performing Assets) have reached all time high. It is starting to lose confidence of its investors. As a result, it’s stock has fallen by 20% in the previous quarter alone.\n",
        "- After careful analysis, it was found that the majority of NPA was contributed by loan defaulters. With the messy data collected over all the years, this bank has decided to use machine learning to figure out a way to find these defaulters and devise a plan to reduce them.\n",
        "- This bank uses a pool of investors to sanction their loans. For example: If any customer has applied for a loan of $20000, along with bank, the investors perform a due diligence on the requested loan application. Keep this in mind while understanding data.\n",
        "- In this challenge, you will help this bank by predicting the probability that a member will default.\n",
        "\n",
        "## Data Acquisition:\n",
        "- Download the dataset from the following link: https://drive.google.com/drive/folders/15rWe7Mq7BgEyTQ7OZKLK-avJ0L9oveXP?usp=sharing\n",
        "\n",
        "## Machine Learning task : \n",
        "- Binary Classification {Defaulter:1 , Non- Defaulter:0}\n",
        "\n",
        "##Evaluation Metric:\n",
        "- Since the data was imbalanced, So , metric used is ROC-AUC\n",
        "\n",
        "## Approach\n",
        "- Load data\n",
        "- Exploratory Data Analysis\n",
        "- Transform data (data cleansing)\n",
        "- Handling Missing value \n",
        "- Categorize/Dummify\n",
        "- Split - train and cross validation sets\n",
        "- Modelling using different models\n",
        "- Predict"
      ]
    },
    {
      "cell_type": "code",
      "metadata": {
        "id": "OjamIlg-ZlqB",
        "colab_type": "code",
        "colab": {
          "base_uri": "https://localhost:8080/",
          "height": 34
        },
        "outputId": "e8fc578e-890a-46aa-ecc4-b1f5245b023e"
      },
      "source": [
        "cd drive/My\\ Drive/Artivatic"
      ],
      "execution_count": 1,
      "outputs": [
        {
          "output_type": "stream",
          "text": [
            "/content/drive/My Drive/Artivatic\n"
          ],
          "name": "stdout"
        }
      ]
    },
    {
      "cell_type": "code",
      "metadata": {
        "id": "d-J-Cd1h2gm2",
        "colab_type": "code",
        "colab": {
          "base_uri": "https://localhost:8080/",
          "height": 275
        },
        "outputId": "d33c6a6c-92ed-425c-9b1a-fccf287d39e8"
      },
      "source": [
        "!pip install catboost"
      ],
      "execution_count": 2,
      "outputs": [
        {
          "output_type": "stream",
          "text": [
            "Requirement already satisfied: catboost in /usr/local/lib/python3.6/dist-packages (0.23.2)\n",
            "Requirement already satisfied: plotly in /usr/local/lib/python3.6/dist-packages (from catboost) (4.4.1)\n",
            "Requirement already satisfied: matplotlib in /usr/local/lib/python3.6/dist-packages (from catboost) (3.2.2)\n",
            "Requirement already satisfied: numpy>=1.16.0 in /usr/local/lib/python3.6/dist-packages (from catboost) (1.18.5)\n",
            "Requirement already satisfied: pandas>=0.24.0 in /usr/local/lib/python3.6/dist-packages (from catboost) (1.0.5)\n",
            "Requirement already satisfied: scipy in /usr/local/lib/python3.6/dist-packages (from catboost) (1.4.1)\n",
            "Requirement already satisfied: six in /usr/local/lib/python3.6/dist-packages (from catboost) (1.12.0)\n",
            "Requirement already satisfied: graphviz in /usr/local/lib/python3.6/dist-packages (from catboost) (0.10.1)\n",
            "Requirement already satisfied: retrying>=1.3.3 in /usr/local/lib/python3.6/dist-packages (from plotly->catboost) (1.3.3)\n",
            "Requirement already satisfied: cycler>=0.10 in /usr/local/lib/python3.6/dist-packages (from matplotlib->catboost) (0.10.0)\n",
            "Requirement already satisfied: python-dateutil>=2.1 in /usr/local/lib/python3.6/dist-packages (from matplotlib->catboost) (2.8.1)\n",
            "Requirement already satisfied: pyparsing!=2.0.4,!=2.1.2,!=2.1.6,>=2.0.1 in /usr/local/lib/python3.6/dist-packages (from matplotlib->catboost) (2.4.7)\n",
            "Requirement already satisfied: kiwisolver>=1.0.1 in /usr/local/lib/python3.6/dist-packages (from matplotlib->catboost) (1.2.0)\n",
            "Requirement already satisfied: pytz>=2017.2 in /usr/local/lib/python3.6/dist-packages (from pandas>=0.24.0->catboost) (2018.9)\n"
          ],
          "name": "stdout"
        }
      ]
    },
    {
      "cell_type": "code",
      "metadata": {
        "id": "PLoww-FRZ4EG",
        "colab_type": "code",
        "colab": {
          "base_uri": "https://localhost:8080/",
          "height": 122
        },
        "outputId": "55193860-e0f7-48c2-b0a4-7c41eca49e28"
      },
      "source": [
        "import nltk\n",
        "nltk.download('stopwords')\n",
        "import numpy as np\n",
        "import pandas as pd\n",
        "from sklearn.model_selection import train_test_split\n",
        "from sklearn.preprocessing import StandardScaler\n",
        "# Using GridSearchCV to find the best algorithm for this problem\n",
        "from sklearn.model_selection import GridSearchCV\n",
        "from sklearn.model_selection import ShuffleSplit\n",
        "from sklearn.linear_model import LogisticRegression\n",
        "from sklearn.tree import DecisionTreeClassifier\n",
        "from sklearn.ensemble import RandomForestClassifier\n",
        "from sklearn.svm import SVC\n",
        "from sklearn.metrics import confusion_matrix, classification_report, accuracy_score\n",
        "# Importing essential libraries for visualization\n",
        "import matplotlib.pyplot as plt\n",
        "import seaborn as sns\n",
        "%matplotlib inline\n",
        "import pandas as pd\n",
        "import seaborn as sns\n",
        "import numpy as np\n",
        "import xgboost as xgb\n",
        "from tqdm import tqdm\n",
        "from sklearn.svm import SVC\n",
        "from keras.models import Sequential\n",
        "from keras.layers.recurrent import LSTM, GRU\n",
        "from keras.layers.core import Dense, Activation, Dropout\n",
        "from keras.layers.embeddings import Embedding\n",
        "from keras.layers.normalization import BatchNormalization\n",
        "from keras.utils import np_utils\n",
        "from sklearn import preprocessing, decomposition, model_selection, metrics, pipeline\n",
        "from sklearn.model_selection import GridSearchCV\n",
        "from sklearn.feature_extraction.text import TfidfVectorizer, CountVectorizer\n",
        "from sklearn.decomposition import TruncatedSVD\n",
        "from sklearn.linear_model import LogisticRegression\n",
        "from sklearn.model_selection import train_test_split\n",
        "from sklearn.naive_bayes import MultinomialNB\n",
        "from keras.layers import GlobalMaxPooling1D, Conv1D, MaxPooling1D, Flatten, Bidirectional, SpatialDropout1D\n",
        "from keras.preprocessing import sequence, text\n",
        "from keras.callbacks import EarlyStopping\n",
        "from nltk import word_tokenize\n",
        "from nltk.corpus import stopwords\n",
        "stop_words = stopwords.words('english')\n",
        "from sklearn.metrics import roc_curve, auc\n",
        "\n",
        "\n",
        "# Configure visualisations\n",
        "%matplotlib inline\n",
        "sns.set_style( 'white' )"
      ],
      "execution_count": 3,
      "outputs": [
        {
          "output_type": "stream",
          "text": [
            "[nltk_data] Downloading package stopwords to /root/nltk_data...\n",
            "[nltk_data]   Package stopwords is already up-to-date!\n"
          ],
          "name": "stdout"
        },
        {
          "output_type": "stream",
          "text": [
            "/usr/local/lib/python3.6/dist-packages/statsmodels/tools/_testing.py:19: FutureWarning: pandas.util.testing is deprecated. Use the functions in the public API at pandas.testing instead.\n",
            "  import pandas.util.testing as tm\n",
            "Using TensorFlow backend.\n"
          ],
          "name": "stderr"
        }
      ]
    },
    {
      "cell_type": "code",
      "metadata": {
        "id": "5EiEa4lPZ5tA",
        "colab_type": "code",
        "colab": {}
      },
      "source": [
        "train = pd.read_csv('train_indessa.csv')\n",
        "test= pd.read_csv('test_indessa.csv')\n",
        "submission = pd.read_csv('sample_submission.csv')"
      ],
      "execution_count": 4,
      "outputs": []
    },
    {
      "cell_type": "code",
      "metadata": {
        "id": "l5qu4RUhp14w",
        "colab_type": "code",
        "colab": {}
      },
      "source": [
        "test_member_id = pd.DataFrame(test['member_id'])"
      ],
      "execution_count": 5,
      "outputs": []
    },
    {
      "cell_type": "code",
      "metadata": {
        "id": "CU9e2WIcp9aI",
        "colab_type": "code",
        "colab": {}
      },
      "source": [
        "# Class Label : Binary Classification\n",
        "train_target = pd.DataFrame(train['loan_status'])"
      ],
      "execution_count": 6,
      "outputs": []
    },
    {
      "cell_type": "code",
      "metadata": {
        "id": "DodGd1J5qETs",
        "colab_type": "code",
        "colab": {
          "base_uri": "https://localhost:8080/",
          "height": 68
        },
        "outputId": "28dd932c-307c-4165-9bee-f0033cc3ce70"
      },
      "source": [
        "train_target['loan_status'].value_counts()"
      ],
      "execution_count": 7,
      "outputs": [
        {
          "output_type": "execute_result",
          "data": {
            "text/plain": [
              "0    406601\n",
              "1    125827\n",
              "Name: loan_status, dtype: int64"
            ]
          },
          "metadata": {
            "tags": []
          },
          "execution_count": 7
        }
      ]
    },
    {
      "cell_type": "code",
      "metadata": {
        "id": "l8_QN7bqa7kH",
        "colab_type": "code",
        "colab": {
          "base_uri": "https://localhost:8080/",
          "height": 462
        },
        "outputId": "b7d46a15-3be8-4fe3-fd57-a8052995a69f"
      },
      "source": [
        "train.head()"
      ],
      "execution_count": 8,
      "outputs": [
        {
          "output_type": "execute_result",
          "data": {
            "text/html": [
              "<div>\n",
              "<style scoped>\n",
              "    .dataframe tbody tr th:only-of-type {\n",
              "        vertical-align: middle;\n",
              "    }\n",
              "\n",
              "    .dataframe tbody tr th {\n",
              "        vertical-align: top;\n",
              "    }\n",
              "\n",
              "    .dataframe thead th {\n",
              "        text-align: right;\n",
              "    }\n",
              "</style>\n",
              "<table border=\"1\" class=\"dataframe\">\n",
              "  <thead>\n",
              "    <tr style=\"text-align: right;\">\n",
              "      <th></th>\n",
              "      <th>member_id</th>\n",
              "      <th>loan_amnt</th>\n",
              "      <th>funded_amnt</th>\n",
              "      <th>funded_amnt_inv</th>\n",
              "      <th>term</th>\n",
              "      <th>batch_enrolled</th>\n",
              "      <th>int_rate</th>\n",
              "      <th>grade</th>\n",
              "      <th>sub_grade</th>\n",
              "      <th>emp_title</th>\n",
              "      <th>emp_length</th>\n",
              "      <th>home_ownership</th>\n",
              "      <th>annual_inc</th>\n",
              "      <th>verification_status</th>\n",
              "      <th>pymnt_plan</th>\n",
              "      <th>desc</th>\n",
              "      <th>purpose</th>\n",
              "      <th>title</th>\n",
              "      <th>zip_code</th>\n",
              "      <th>addr_state</th>\n",
              "      <th>dti</th>\n",
              "      <th>delinq_2yrs</th>\n",
              "      <th>inq_last_6mths</th>\n",
              "      <th>mths_since_last_delinq</th>\n",
              "      <th>mths_since_last_record</th>\n",
              "      <th>open_acc</th>\n",
              "      <th>pub_rec</th>\n",
              "      <th>revol_bal</th>\n",
              "      <th>revol_util</th>\n",
              "      <th>total_acc</th>\n",
              "      <th>initial_list_status</th>\n",
              "      <th>total_rec_int</th>\n",
              "      <th>total_rec_late_fee</th>\n",
              "      <th>recoveries</th>\n",
              "      <th>collection_recovery_fee</th>\n",
              "      <th>collections_12_mths_ex_med</th>\n",
              "      <th>mths_since_last_major_derog</th>\n",
              "      <th>application_type</th>\n",
              "      <th>verification_status_joint</th>\n",
              "      <th>last_week_pay</th>\n",
              "      <th>acc_now_delinq</th>\n",
              "      <th>tot_coll_amt</th>\n",
              "      <th>tot_cur_bal</th>\n",
              "      <th>total_rev_hi_lim</th>\n",
              "      <th>loan_status</th>\n",
              "    </tr>\n",
              "  </thead>\n",
              "  <tbody>\n",
              "    <tr>\n",
              "      <th>0</th>\n",
              "      <td>58189336</td>\n",
              "      <td>14350</td>\n",
              "      <td>14350</td>\n",
              "      <td>14350.0</td>\n",
              "      <td>36 months</td>\n",
              "      <td></td>\n",
              "      <td>19.19</td>\n",
              "      <td>E</td>\n",
              "      <td>E3</td>\n",
              "      <td>clerk</td>\n",
              "      <td>9 years</td>\n",
              "      <td>OWN</td>\n",
              "      <td>28700.0</td>\n",
              "      <td>Source Verified</td>\n",
              "      <td>n</td>\n",
              "      <td>NaN</td>\n",
              "      <td>debt_consolidation</td>\n",
              "      <td>Debt consolidation</td>\n",
              "      <td>349xx</td>\n",
              "      <td>FL</td>\n",
              "      <td>33.88</td>\n",
              "      <td>0.0</td>\n",
              "      <td>1.0</td>\n",
              "      <td>50.0</td>\n",
              "      <td>75.0</td>\n",
              "      <td>14.0</td>\n",
              "      <td>1.0</td>\n",
              "      <td>22515.0</td>\n",
              "      <td>73.1</td>\n",
              "      <td>28.0</td>\n",
              "      <td>f</td>\n",
              "      <td>1173.84</td>\n",
              "      <td>0.0</td>\n",
              "      <td>0.0</td>\n",
              "      <td>0.0</td>\n",
              "      <td>0.0</td>\n",
              "      <td>74.0</td>\n",
              "      <td>INDIVIDUAL</td>\n",
              "      <td>NaN</td>\n",
              "      <td>26th week</td>\n",
              "      <td>0.0</td>\n",
              "      <td>0.0</td>\n",
              "      <td>28699.0</td>\n",
              "      <td>30800.0</td>\n",
              "      <td>0</td>\n",
              "    </tr>\n",
              "    <tr>\n",
              "      <th>1</th>\n",
              "      <td>70011223</td>\n",
              "      <td>4800</td>\n",
              "      <td>4800</td>\n",
              "      <td>4800.0</td>\n",
              "      <td>36 months</td>\n",
              "      <td>BAT1586599</td>\n",
              "      <td>10.99</td>\n",
              "      <td>B</td>\n",
              "      <td>B4</td>\n",
              "      <td>Human Resources Specialist</td>\n",
              "      <td>&lt; 1 year</td>\n",
              "      <td>MORTGAGE</td>\n",
              "      <td>65000.0</td>\n",
              "      <td>Source Verified</td>\n",
              "      <td>n</td>\n",
              "      <td>NaN</td>\n",
              "      <td>home_improvement</td>\n",
              "      <td>Home improvement</td>\n",
              "      <td>209xx</td>\n",
              "      <td>MD</td>\n",
              "      <td>3.64</td>\n",
              "      <td>0.0</td>\n",
              "      <td>1.0</td>\n",
              "      <td>NaN</td>\n",
              "      <td>NaN</td>\n",
              "      <td>6.0</td>\n",
              "      <td>0.0</td>\n",
              "      <td>7624.0</td>\n",
              "      <td>23.2</td>\n",
              "      <td>13.0</td>\n",
              "      <td>w</td>\n",
              "      <td>83.95</td>\n",
              "      <td>0.0</td>\n",
              "      <td>0.0</td>\n",
              "      <td>0.0</td>\n",
              "      <td>0.0</td>\n",
              "      <td>NaN</td>\n",
              "      <td>INDIVIDUAL</td>\n",
              "      <td>NaN</td>\n",
              "      <td>9th week</td>\n",
              "      <td>0.0</td>\n",
              "      <td>0.0</td>\n",
              "      <td>9974.0</td>\n",
              "      <td>32900.0</td>\n",
              "      <td>0</td>\n",
              "    </tr>\n",
              "    <tr>\n",
              "      <th>2</th>\n",
              "      <td>70255675</td>\n",
              "      <td>10000</td>\n",
              "      <td>10000</td>\n",
              "      <td>10000.0</td>\n",
              "      <td>36 months</td>\n",
              "      <td>BAT1586599</td>\n",
              "      <td>7.26</td>\n",
              "      <td>A</td>\n",
              "      <td>A4</td>\n",
              "      <td>Driver</td>\n",
              "      <td>2 years</td>\n",
              "      <td>OWN</td>\n",
              "      <td>45000.0</td>\n",
              "      <td>Not Verified</td>\n",
              "      <td>n</td>\n",
              "      <td>NaN</td>\n",
              "      <td>debt_consolidation</td>\n",
              "      <td>Debt consolidation</td>\n",
              "      <td>447xx</td>\n",
              "      <td>OH</td>\n",
              "      <td>18.42</td>\n",
              "      <td>0.0</td>\n",
              "      <td>0.0</td>\n",
              "      <td>NaN</td>\n",
              "      <td>NaN</td>\n",
              "      <td>5.0</td>\n",
              "      <td>0.0</td>\n",
              "      <td>10877.0</td>\n",
              "      <td>31.2</td>\n",
              "      <td>19.0</td>\n",
              "      <td>w</td>\n",
              "      <td>56.47</td>\n",
              "      <td>0.0</td>\n",
              "      <td>0.0</td>\n",
              "      <td>0.0</td>\n",
              "      <td>0.0</td>\n",
              "      <td>NaN</td>\n",
              "      <td>INDIVIDUAL</td>\n",
              "      <td>NaN</td>\n",
              "      <td>9th week</td>\n",
              "      <td>0.0</td>\n",
              "      <td>65.0</td>\n",
              "      <td>38295.0</td>\n",
              "      <td>34900.0</td>\n",
              "      <td>0</td>\n",
              "    </tr>\n",
              "    <tr>\n",
              "      <th>3</th>\n",
              "      <td>1893936</td>\n",
              "      <td>15000</td>\n",
              "      <td>15000</td>\n",
              "      <td>15000.0</td>\n",
              "      <td>36 months</td>\n",
              "      <td>BAT4808022</td>\n",
              "      <td>19.72</td>\n",
              "      <td>D</td>\n",
              "      <td>D5</td>\n",
              "      <td>Us office of Personnel Management</td>\n",
              "      <td>10+ years</td>\n",
              "      <td>RENT</td>\n",
              "      <td>105000.0</td>\n",
              "      <td>Not Verified</td>\n",
              "      <td>n</td>\n",
              "      <td>&gt; My goal is to obtain a loan to pay off my hi...</td>\n",
              "      <td>debt_consolidation</td>\n",
              "      <td>Debt consolidation</td>\n",
              "      <td>221xx</td>\n",
              "      <td>VA</td>\n",
              "      <td>14.97</td>\n",
              "      <td>0.0</td>\n",
              "      <td>2.0</td>\n",
              "      <td>46.0</td>\n",
              "      <td>NaN</td>\n",
              "      <td>10.0</td>\n",
              "      <td>0.0</td>\n",
              "      <td>13712.0</td>\n",
              "      <td>55.5</td>\n",
              "      <td>21.0</td>\n",
              "      <td>f</td>\n",
              "      <td>4858.62</td>\n",
              "      <td>0.0</td>\n",
              "      <td>0.0</td>\n",
              "      <td>0.0</td>\n",
              "      <td>0.0</td>\n",
              "      <td>NaN</td>\n",
              "      <td>INDIVIDUAL</td>\n",
              "      <td>NaN</td>\n",
              "      <td>135th week</td>\n",
              "      <td>0.0</td>\n",
              "      <td>0.0</td>\n",
              "      <td>55564.0</td>\n",
              "      <td>24700.0</td>\n",
              "      <td>0</td>\n",
              "    </tr>\n",
              "    <tr>\n",
              "      <th>4</th>\n",
              "      <td>7652106</td>\n",
              "      <td>16000</td>\n",
              "      <td>16000</td>\n",
              "      <td>16000.0</td>\n",
              "      <td>36 months</td>\n",
              "      <td>BAT2833642</td>\n",
              "      <td>10.64</td>\n",
              "      <td>B</td>\n",
              "      <td>B2</td>\n",
              "      <td>LAUSD-HOLLYWOOD HIGH SCHOOL</td>\n",
              "      <td>10+ years</td>\n",
              "      <td>RENT</td>\n",
              "      <td>52000.0</td>\n",
              "      <td>Verified</td>\n",
              "      <td>n</td>\n",
              "      <td>NaN</td>\n",
              "      <td>credit_card</td>\n",
              "      <td>refi</td>\n",
              "      <td>900xx</td>\n",
              "      <td>CA</td>\n",
              "      <td>20.16</td>\n",
              "      <td>0.0</td>\n",
              "      <td>0.0</td>\n",
              "      <td>NaN</td>\n",
              "      <td>NaN</td>\n",
              "      <td>11.0</td>\n",
              "      <td>0.0</td>\n",
              "      <td>35835.0</td>\n",
              "      <td>76.2</td>\n",
              "      <td>27.0</td>\n",
              "      <td>w</td>\n",
              "      <td>2296.41</td>\n",
              "      <td>0.0</td>\n",
              "      <td>0.0</td>\n",
              "      <td>0.0</td>\n",
              "      <td>0.0</td>\n",
              "      <td>NaN</td>\n",
              "      <td>INDIVIDUAL</td>\n",
              "      <td>NaN</td>\n",
              "      <td>96th week</td>\n",
              "      <td>0.0</td>\n",
              "      <td>0.0</td>\n",
              "      <td>47159.0</td>\n",
              "      <td>47033.0</td>\n",
              "      <td>0</td>\n",
              "    </tr>\n",
              "  </tbody>\n",
              "</table>\n",
              "</div>"
            ],
            "text/plain": [
              "   member_id  loan_amnt  ...  total_rev_hi_lim  loan_status\n",
              "0   58189336      14350  ...           30800.0            0\n",
              "1   70011223       4800  ...           32900.0            0\n",
              "2   70255675      10000  ...           34900.0            0\n",
              "3    1893936      15000  ...           24700.0            0\n",
              "4    7652106      16000  ...           47033.0            0\n",
              "\n",
              "[5 rows x 45 columns]"
            ]
          },
          "metadata": {
            "tags": []
          },
          "execution_count": 8
        }
      ]
    },
    {
      "cell_type": "code",
      "metadata": {
        "id": "HuY9Mx8vZ7na",
        "colab_type": "code",
        "colab": {
          "base_uri": "https://localhost:8080/",
          "height": 238
        },
        "outputId": "7a77368f-4739-4cb8-83d1-763302998dcd"
      },
      "source": [
        "train.columns"
      ],
      "execution_count": 9,
      "outputs": [
        {
          "output_type": "execute_result",
          "data": {
            "text/plain": [
              "Index(['member_id', 'loan_amnt', 'funded_amnt', 'funded_amnt_inv', 'term',\n",
              "       'batch_enrolled', 'int_rate', 'grade', 'sub_grade', 'emp_title',\n",
              "       'emp_length', 'home_ownership', 'annual_inc', 'verification_status',\n",
              "       'pymnt_plan', 'desc', 'purpose', 'title', 'zip_code', 'addr_state',\n",
              "       'dti', 'delinq_2yrs', 'inq_last_6mths', 'mths_since_last_delinq',\n",
              "       'mths_since_last_record', 'open_acc', 'pub_rec', 'revol_bal',\n",
              "       'revol_util', 'total_acc', 'initial_list_status', 'total_rec_int',\n",
              "       'total_rec_late_fee', 'recoveries', 'collection_recovery_fee',\n",
              "       'collections_12_mths_ex_med', 'mths_since_last_major_derog',\n",
              "       'application_type', 'verification_status_joint', 'last_week_pay',\n",
              "       'acc_now_delinq', 'tot_coll_amt', 'tot_cur_bal', 'total_rev_hi_lim',\n",
              "       'loan_status'],\n",
              "      dtype='object')"
            ]
          },
          "metadata": {
            "tags": []
          },
          "execution_count": 9
        }
      ]
    },
    {
      "cell_type": "markdown",
      "metadata": {
        "id": "UH6mDqDVat4I",
        "colab_type": "text"
      },
      "source": [
        "## DATA PREPROCESSING"
      ]
    },
    {
      "cell_type": "markdown",
      "metadata": {
        "id": "dlPln3mqbDFg",
        "colab_type": "text"
      },
      "source": [
        "## Term feature"
      ]
    },
    {
      "cell_type": "code",
      "metadata": {
        "id": "k-46pcnVbn22",
        "colab_type": "code",
        "colab": {
          "base_uri": "https://localhost:8080/",
          "height": 330
        },
        "outputId": "f5b608e8-0c85-4ad9-9dcd-e233b95beff7"
      },
      "source": [
        "ax = sns.countplot(x=train['term'], data=train)\n",
        "print(train['term'].value_counts())"
      ],
      "execution_count": 10,
      "outputs": [
        {
          "output_type": "stream",
          "text": [
            "36 months    372793\n",
            "60 months    159635\n",
            "Name: term, dtype: int64\n"
          ],
          "name": "stdout"
        },
        {
          "output_type": "display_data",
          "data": {
            "image/png": "[encoded data removed]",
            "text/plain": [
              "<Figure size 432x288 with 1 Axes>"
            ]
          },
          "metadata": {
            "tags": []
          }
        }
      ]
    },
    {
      "cell_type": "code",
      "metadata": {
        "id": "N-stSmeuaEKZ",
        "colab_type": "code",
        "colab": {}
      },
      "source": [
        "train['term'].replace(to_replace=' months', value='', regex=True, inplace=True)\n",
        "test['term'].replace(to_replace=' months', value='', regex=True, inplace=True)\n",
        "\n",
        "# Convert it to numeric\n",
        "train['term'] = pd.to_numeric(train['term'], errors='coerce')\n",
        "test['term'] = pd.to_numeric(test['term'], errors='coerce')"
      ],
      "execution_count": 11,
      "outputs": []
    },
    {
      "cell_type": "code",
      "metadata": {
        "id": "uBLiqkjjb19c",
        "colab_type": "code",
        "colab": {
          "base_uri": "https://localhost:8080/",
          "height": 330
        },
        "outputId": "3c12e68c-f594-4b13-cf92-e8ddb372d7e1"
      },
      "source": [
        "ax = sns.countplot(x=train['term'], data=train)\n",
        "print(train['term'].value_counts())"
      ],
      "execution_count": 12,
      "outputs": [
        {
          "output_type": "stream",
          "text": [
            "36    372793\n",
            "60    159635\n",
            "Name: term, dtype: int64\n"
          ],
          "name": "stdout"
        },
        {
          "output_type": "display_data",
          "data": {
            "image/png": "[encoded data removed]",
            "text/plain": [
              "<Figure size 432x288 with 1 Axes>"
            ]
          },
          "metadata": {
            "tags": []
          }
        }
      ]
    },
    {
      "cell_type": "markdown",
      "metadata": {
        "id": "ukFw75fHb_Dk",
        "colab_type": "text"
      },
      "source": [
        "## Emp length feature\n",
        "- employment length, where 0 means less than one year and 10 means ten or more years"
      ]
    },
    {
      "cell_type": "code",
      "metadata": {
        "id": "u84Cqu9ycWqN",
        "colab_type": "code",
        "colab": {
          "base_uri": "https://localhost:8080/",
          "height": 484
        },
        "outputId": "c0931c03-4324-4a17-ead7-df5330a2e612"
      },
      "source": [
        "ax = sns.countplot(x=train['emp_length'], data=train)\n",
        "print(train['emp_length'].value_counts())"
      ],
      "execution_count": 13,
      "outputs": [
        {
          "output_type": "stream",
          "text": [
            "10+ years    175105\n",
            "2 years       47276\n",
            "< 1 year      42253\n",
            "3 years       42175\n",
            "1 year        34202\n",
            "5 years       33393\n",
            "4 years       31581\n",
            "7 years       26680\n",
            "8 years       26443\n",
            "6 years       25741\n",
            "9 years       20688\n",
            "Name: emp_length, dtype: int64\n"
          ],
          "name": "stdout"
        },
        {
          "output_type": "display_data",
          "data": {
            "image/png": "[encoded data removed]",
            "text/plain": [
              "<Figure size 432x288 with 1 Axes>"
            ]
          },
          "metadata": {
            "tags": []
          }
        }
      ]
    },
    {
      "cell_type": "code",
      "metadata": {
        "id": "v4CJSA15b4dj",
        "colab_type": "code",
        "colab": {}
      },
      "source": [
        "train['emp_length'].replace('n/a', '0', inplace=True)\n",
        "train['emp_length'].replace(to_replace='\\+ years', value='', regex=True, inplace=True)\n",
        "train['emp_length'].replace(to_replace=' years', value='', regex=True, inplace=True)\n",
        "train['emp_length'].replace(to_replace='< 1 year', value='0', regex=True, inplace=True)\n",
        "train['emp_length'].replace(to_replace=' year', value='', regex=True, inplace=True)\n",
        "\n",
        "test['emp_length'].replace('n/a', '0', inplace=True)\n",
        "test['emp_length'].replace(to_replace='\\+ years', value='', regex=True, inplace=True)\n",
        "test['emp_length'].replace(to_replace=' years', value='', regex=True, inplace=True)\n",
        "test['emp_length'].replace(to_replace='< 1 year', value='0', regex=True, inplace=True)\n",
        "test['emp_length'].replace(to_replace=' year', value='', regex=True, inplace=True)\n",
        "\n",
        "# Convert it to numeric\n",
        "train['emp_length'] = pd.to_numeric(train['emp_length'], errors='coerce')\n",
        "test['emp_length'] = pd.to_numeric(test['emp_length'], errors='coerce')"
      ],
      "execution_count": 14,
      "outputs": []
    },
    {
      "cell_type": "code",
      "metadata": {
        "id": "XToFoRMccaYF",
        "colab_type": "code",
        "colab": {
          "base_uri": "https://localhost:8080/",
          "height": 484
        },
        "outputId": "f4f93b5f-a5a8-4fe8-b6ac-88622b01343f"
      },
      "source": [
        "ax = sns.countplot(x=train['emp_length'], data=train)\n",
        "print(train['emp_length'].value_counts())"
      ],
      "execution_count": 15,
      "outputs": [
        {
          "output_type": "stream",
          "text": [
            "10.0    175105\n",
            "2.0      47276\n",
            "0.0      42253\n",
            "3.0      42175\n",
            "1.0      34202\n",
            "5.0      33393\n",
            "4.0      31581\n",
            "7.0      26680\n",
            "8.0      26443\n",
            "6.0      25741\n",
            "9.0      20688\n",
            "Name: emp_length, dtype: int64\n"
          ],
          "name": "stdout"
        },
        {
          "output_type": "display_data",
          "data": {
            "image/png": "[encoded data removed]",
            "text/plain": [
              "<Figure size 432x288 with 1 Axes>"
            ]
          },
          "metadata": {
            "tags": []
          }
        }
      ]
    },
    {
      "cell_type": "markdown",
      "metadata": {
        "id": "7IXGk0kScs3-",
        "colab_type": "text"
      },
      "source": [
        "## sub grade feature \n",
        "- grade assigned by the bank"
      ]
    },
    {
      "cell_type": "code",
      "metadata": {
        "id": "opS1Bnwdc5jz",
        "colab_type": "code",
        "colab": {
          "base_uri": "https://localhost:8080/",
          "height": 893
        },
        "outputId": "bbf5f1a7-51bb-48ee-8a6f-908649000ce9"
      },
      "source": [
        "ax = sns.countplot(x=train['sub_grade'], data=train)\n",
        "print(train['sub_grade'].value_counts())"
      ],
      "execution_count": 16,
      "outputs": [
        {
          "output_type": "stream",
          "text": [
            "B3    33844\n",
            "B4    33198\n",
            "C1    31975\n",
            "C2    31356\n",
            "C3    30080\n",
            "B2    29390\n",
            "B5    29313\n",
            "C4    29103\n",
            "A5    27016\n",
            "B1    26968\n",
            "C5    24985\n",
            "D1    21712\n",
            "A4    20823\n",
            "D2    17991\n",
            "D3    15771\n",
            "D4    15226\n",
            "A3    14082\n",
            "A1    13653\n",
            "A2    13533\n",
            "D5    12867\n",
            "E1    10928\n",
            "E2    10255\n",
            "E3     8488\n",
            "E4     7051\n",
            "E5     5773\n",
            "F1     4350\n",
            "F2     3196\n",
            "F3     2708\n",
            "F4     2056\n",
            "F5     1516\n",
            "G1     1112\n",
            "G2      824\n",
            "G3      559\n",
            "G4      391\n",
            "G5      335\n",
            "Name: sub_grade, dtype: int64\n"
          ],
          "name": "stdout"
        },
        {
          "output_type": "display_data",
          "data": {
            "image/png": "[encoded data removed]",
            "text/plain": [
              "<Figure size 432x288 with 1 Axes>"
            ]
          },
          "metadata": {
            "tags": []
          }
        }
      ]
    },
    {
      "cell_type": "code",
      "metadata": {
        "id": "UicEH6whccdb",
        "colab_type": "code",
        "colab": {}
      },
      "source": [
        "train['sub_grade'].replace(to_replace='A', value='0', regex=True, inplace=True)\n",
        "train['sub_grade'].replace(to_replace='B', value='1', regex=True, inplace=True)\n",
        "train['sub_grade'].replace(to_replace='C', value='2', regex=True, inplace=True)\n",
        "train['sub_grade'].replace(to_replace='D', value='3', regex=True, inplace=True)\n",
        "train['sub_grade'].replace(to_replace='E', value='4', regex=True, inplace=True)\n",
        "train['sub_grade'].replace(to_replace='F', value='5', regex=True, inplace=True)\n",
        "train['sub_grade'].replace(to_replace='G', value='6', regex=True, inplace=True)\n",
        "\n",
        "test['sub_grade'].replace(to_replace='A', value='0', regex=True, inplace=True)\n",
        "test['sub_grade'].replace(to_replace='B', value='1', regex=True, inplace=True)\n",
        "test['sub_grade'].replace(to_replace='C', value='2', regex=True, inplace=True)\n",
        "test['sub_grade'].replace(to_replace='D', value='3', regex=True, inplace=True)\n",
        "test['sub_grade'].replace(to_replace='E', value='4', regex=True, inplace=True)\n",
        "test['sub_grade'].replace(to_replace='F', value='5', regex=True, inplace=True)\n",
        "test['sub_grade'].replace(to_replace='G', value='6', regex=True, inplace=True)\n",
        "\n",
        "# Convert it to numeric\n",
        "train['sub_grade'] = pd.to_numeric(train['sub_grade'], errors='coerce')\n",
        "test['sub_grade'] = pd.to_numeric(test['sub_grade'], errors='coerce')"
      ],
      "execution_count": 17,
      "outputs": []
    },
    {
      "cell_type": "code",
      "metadata": {
        "id": "2PX2yVS5dN2D",
        "colab_type": "code",
        "colab": {
          "base_uri": "https://localhost:8080/",
          "height": 893
        },
        "outputId": "f8dc379b-62ec-4247-9eaa-82a2f7fb1bdc"
      },
      "source": [
        "ax = sns.countplot(x=train['sub_grade'], data=train)\n",
        "print(train['sub_grade'].value_counts())"
      ],
      "execution_count": 18,
      "outputs": [
        {
          "output_type": "stream",
          "text": [
            "13    33844\n",
            "14    33198\n",
            "21    31975\n",
            "22    31356\n",
            "23    30080\n",
            "12    29390\n",
            "15    29313\n",
            "24    29103\n",
            "5     27016\n",
            "11    26968\n",
            "25    24985\n",
            "31    21712\n",
            "4     20823\n",
            "32    17991\n",
            "33    15771\n",
            "34    15226\n",
            "3     14082\n",
            "1     13653\n",
            "2     13533\n",
            "35    12867\n",
            "41    10928\n",
            "42    10255\n",
            "43     8488\n",
            "44     7051\n",
            "45     5773\n",
            "51     4350\n",
            "52     3196\n",
            "53     2708\n",
            "54     2056\n",
            "55     1516\n",
            "61     1112\n",
            "62      824\n",
            "63      559\n",
            "64      391\n",
            "65      335\n",
            "Name: sub_grade, dtype: int64\n"
          ],
          "name": "stdout"
        },
        {
          "output_type": "display_data",
          "data": {
            "image/png": "[encoded data removed]",
            "text/plain": [
              "<Figure size 432x288 with 1 Axes>"
            ]
          },
          "metadata": {
            "tags": []
          }
        }
      ]
    },
    {
      "cell_type": "markdown",
      "metadata": {
        "id": "D78W3sDLdwdJ",
        "colab_type": "text"
      },
      "source": [
        "## last_week_pay feature"
      ]
    },
    {
      "cell_type": "code",
      "metadata": {
        "id": "EZN4fe_idQPW",
        "colab_type": "code",
        "colab": {}
      },
      "source": [
        "train['last_week_pay'].replace(to_replace='th week', value='', regex=True, inplace=True)\n",
        "test['last_week_pay'].replace(to_replace='th week', value='', regex=True, inplace=True)\n",
        "\n",
        "train['last_week_pay'].replace(to_replace='NA', value='', regex=True, inplace=True)\n",
        "test['last_week_pay'].replace(to_replace='NA', value='', regex=True, inplace=True)\n",
        "\n",
        "# Convert it to numeric\n",
        "train['last_week_pay'] = pd.to_numeric(train['last_week_pay'], errors='coerce')\n",
        "test['last_week_pay'] = pd.to_numeric(test['last_week_pay'], errors='coerce')"
      ],
      "execution_count": 19,
      "outputs": []
    },
    {
      "cell_type": "markdown",
      "metadata": {
        "id": "wP8l1TRHmgb6",
        "colab_type": "text"
      },
      "source": [
        "## Handling Missing Values or NaN's"
      ]
    },
    {
      "cell_type": "code",
      "metadata": {
        "id": "MDa6PrLEmoKN",
        "colab_type": "code",
        "colab": {
          "base_uri": "https://localhost:8080/",
          "height": 799
        },
        "outputId": "98bcd117-386c-4bfc-f55a-6e027bd74f42"
      },
      "source": [
        "train.isnull().sum()"
      ],
      "execution_count": 20,
      "outputs": [
        {
          "output_type": "execute_result",
          "data": {
            "text/plain": [
              "member_id                           0\n",
              "loan_amnt                           0\n",
              "funded_amnt                         0\n",
              "funded_amnt_inv                     0\n",
              "term                                0\n",
              "batch_enrolled                  85149\n",
              "int_rate                            0\n",
              "grade                               0\n",
              "sub_grade                           0\n",
              "emp_title                       30833\n",
              "emp_length                      26891\n",
              "home_ownership                      0\n",
              "annual_inc                          3\n",
              "verification_status                 0\n",
              "pymnt_plan                          0\n",
              "desc                           456829\n",
              "purpose                             0\n",
              "title                              90\n",
              "zip_code                            0\n",
              "addr_state                          0\n",
              "dti                                 0\n",
              "delinq_2yrs                        16\n",
              "inq_last_6mths                     16\n",
              "mths_since_last_delinq         272554\n",
              "mths_since_last_record         450305\n",
              "open_acc                           16\n",
              "pub_rec                            16\n",
              "revol_bal                           0\n",
              "revol_util                        287\n",
              "total_acc                          16\n",
              "initial_list_status                 0\n",
              "total_rec_int                       0\n",
              "total_rec_late_fee                  0\n",
              "recoveries                          0\n",
              "collection_recovery_fee             0\n",
              "collections_12_mths_ex_med         95\n",
              "mths_since_last_major_derog    399448\n",
              "application_type                    0\n",
              "verification_status_joint      532123\n",
              "last_week_pay                   10614\n",
              "acc_now_delinq                     16\n",
              "tot_coll_amt                    42004\n",
              "tot_cur_bal                     42004\n",
              "total_rev_hi_lim                42004\n",
              "loan_status                         0\n",
              "dtype: int64"
            ]
          },
          "metadata": {
            "tags": []
          },
          "execution_count": 20
        }
      ]
    },
    {
      "cell_type": "code",
      "metadata": {
        "id": "7l-6N_5-mt0W",
        "colab_type": "code",
        "colab": {
          "base_uri": "https://localhost:8080/",
          "height": 782
        },
        "outputId": "d7b810fa-cab9-499f-c5c1-13970ed1a931"
      },
      "source": [
        "test.isnull().sum()"
      ],
      "execution_count": 21,
      "outputs": [
        {
          "output_type": "execute_result",
          "data": {
            "text/plain": [
              "member_id                           0\n",
              "loan_amnt                           0\n",
              "funded_amnt                         0\n",
              "funded_amnt_inv                     0\n",
              "term                                0\n",
              "batch_enrolled                  45599\n",
              "int_rate                            0\n",
              "grade                               0\n",
              "sub_grade                           0\n",
              "emp_title                       20629\n",
              "emp_length                      17934\n",
              "home_ownership                      0\n",
              "annual_inc                          1\n",
              "verification_status                 0\n",
              "pymnt_plan                          0\n",
              "desc                           304770\n",
              "purpose                             0\n",
              "title                              62\n",
              "zip_code                            0\n",
              "addr_state                          0\n",
              "dti                                 0\n",
              "delinq_2yrs                        13\n",
              "inq_last_6mths                     13\n",
              "mths_since_last_delinq         181758\n",
              "mths_since_last_record         300021\n",
              "open_acc                           13\n",
              "pub_rec                            13\n",
              "revol_bal                           0\n",
              "revol_util                        215\n",
              "total_acc                          13\n",
              "initial_list_status                 0\n",
              "total_rec_int                       0\n",
              "total_rec_late_fee                  0\n",
              "recoveries                          0\n",
              "collection_recovery_fee             0\n",
              "collections_12_mths_ex_med         50\n",
              "mths_since_last_major_derog    266228\n",
              "application_type                    0\n",
              "verification_status_joint      354745\n",
              "last_week_pay                    7045\n",
              "acc_now_delinq                     13\n",
              "tot_coll_amt                    28272\n",
              "tot_cur_bal                     28272\n",
              "total_rev_hi_lim                28272\n",
              "dtype: int64"
            ]
          },
          "metadata": {
            "tags": []
          },
          "execution_count": 21
        }
      ]
    },
    {
      "cell_type": "markdown",
      "metadata": {
        "id": "OGGHSWyfo_nG",
        "colab_type": "text"
      },
      "source": [
        "## Getting the columns having nulls"
      ]
    },
    {
      "cell_type": "code",
      "metadata": {
        "id": "bNqosguznVBw",
        "colab_type": "code",
        "colab": {
          "base_uri": "https://localhost:8080/",
          "height": 54
        },
        "outputId": "eff2f94f-3540-4e25-dbf7-e5328f4fd532"
      },
      "source": [
        "#Droping columns based on number of empty values\n",
        "#for TRAINING data\n",
        "colsDropped = []\n",
        "for col_names in train.columns:\n",
        "    if(train[col_names].isnull().sum() > 0):\n",
        "        colsDropped.append(col_names)\n",
        "print(colsDropped)"
      ],
      "execution_count": 22,
      "outputs": [
        {
          "output_type": "stream",
          "text": [
            "['batch_enrolled', 'emp_title', 'emp_length', 'annual_inc', 'desc', 'title', 'delinq_2yrs', 'inq_last_6mths', 'mths_since_last_delinq', 'mths_since_last_record', 'open_acc', 'pub_rec', 'revol_util', 'total_acc', 'collections_12_mths_ex_med', 'mths_since_last_major_derog', 'verification_status_joint', 'last_week_pay', 'acc_now_delinq', 'tot_coll_amt', 'tot_cur_bal', 'total_rev_hi_lim']\n"
          ],
          "name": "stdout"
        }
      ]
    },
    {
      "cell_type": "code",
      "metadata": {
        "id": "Pu_TxCzTo3GH",
        "colab_type": "code",
        "colab": {
          "base_uri": "https://localhost:8080/",
          "height": 54
        },
        "outputId": "a34ddb0a-3a3e-4f54-c938-297386a1d8e6"
      },
      "source": [
        "#Droping columns based on number of empty values\n",
        "#for TESTING data\n",
        "colsDropped = []\n",
        "for col_names in test.columns:\n",
        "    if(train[col_names].isnull().sum() > 0):\n",
        "        colsDropped.append(col_names)\n",
        "print(colsDropped)"
      ],
      "execution_count": 23,
      "outputs": [
        {
          "output_type": "stream",
          "text": [
            "['batch_enrolled', 'emp_title', 'emp_length', 'annual_inc', 'desc', 'title', 'delinq_2yrs', 'inq_last_6mths', 'mths_since_last_delinq', 'mths_since_last_record', 'open_acc', 'pub_rec', 'revol_util', 'total_acc', 'collections_12_mths_ex_med', 'mths_since_last_major_derog', 'verification_status_joint', 'last_week_pay', 'acc_now_delinq', 'tot_coll_amt', 'tot_cur_bal', 'total_rev_hi_lim']\n"
          ],
          "name": "stdout"
        }
      ]
    },
    {
      "cell_type": "code",
      "metadata": {
        "id": "V3wUQuXemS_a",
        "colab_type": "code",
        "colab": {}
      },
      "source": [
        "cate_cols = ['term', 'loan_amnt', 'funded_amnt', 'last_week_pay', 'int_rate', 'sub_grade', 'annual_inc', 'dti', 'mths_since_last_delinq', 'mths_since_last_record', 'open_acc', 'revol_bal', 'revol_util', 'total_acc', 'total_rec_int', 'mths_since_last_major_derog', 'tot_coll_amt', 'tot_cur_bal', 'total_rev_hi_lim', 'emp_length']\n",
        "for col in cate_cols:\n",
        "    train[col].fillna(train[col].median(), inplace=True)\n",
        "    test[col].fillna(test[col].median(), inplace=True)\n",
        "\n",
        "\n",
        "num_cols = ['acc_now_delinq', 'total_rec_late_fee', 'recoveries', 'collection_recovery_fee', 'collections_12_mths_ex_med']\n",
        "for col in num_cols:\n",
        "    train[col].fillna(0, inplace=True)\n",
        "    test[col].fillna(0, inplace=True)\n"
      ],
      "execution_count": 24,
      "outputs": []
    },
    {
      "cell_type": "code",
      "metadata": {
        "id": "3HmTv8bmowdR",
        "colab_type": "code",
        "colab": {}
      },
      "source": [
        "cat_attr = ['home_ownership', 'purpose']\n",
        "for cat in cat_attr:\n",
        "   df_col = [cat]\n",
        "   train[cat] = train[cat].astype(\"category\")\n",
        "   train[cat] = pd.get_dummies(train, columns=df_col)\n",
        "\n",
        "   \n",
        "   test[cat] = test[cat].astype(\"category\")\n",
        "   test[cat] = pd.get_dummies(test, columns=df_col)"
      ],
      "execution_count": 25,
      "outputs": []
    },
    {
      "cell_type": "markdown",
      "metadata": {
        "id": "Ut8Yrh_9pvSE",
        "colab_type": "text"
      },
      "source": [
        "## Feature Enginering"
      ]
    },
    {
      "cell_type": "code",
      "metadata": {
        "id": "CIN-5bSOq3Nj",
        "colab_type": "code",
        "colab": {
          "base_uri": "https://localhost:8080/",
          "height": 238
        },
        "outputId": "3338c38b-1814-4e13-8acd-8600b4a22901"
      },
      "source": [
        "train.columns"
      ],
      "execution_count": 26,
      "outputs": [
        {
          "output_type": "execute_result",
          "data": {
            "text/plain": [
              "Index(['member_id', 'loan_amnt', 'funded_amnt', 'funded_amnt_inv', 'term',\n",
              "       'batch_enrolled', 'int_rate', 'grade', 'sub_grade', 'emp_title',\n",
              "       'emp_length', 'home_ownership', 'annual_inc', 'verification_status',\n",
              "       'pymnt_plan', 'desc', 'purpose', 'title', 'zip_code', 'addr_state',\n",
              "       'dti', 'delinq_2yrs', 'inq_last_6mths', 'mths_since_last_delinq',\n",
              "       'mths_since_last_record', 'open_acc', 'pub_rec', 'revol_bal',\n",
              "       'revol_util', 'total_acc', 'initial_list_status', 'total_rec_int',\n",
              "       'total_rec_late_fee', 'recoveries', 'collection_recovery_fee',\n",
              "       'collections_12_mths_ex_med', 'mths_since_last_major_derog',\n",
              "       'application_type', 'verification_status_joint', 'last_week_pay',\n",
              "       'acc_now_delinq', 'tot_coll_amt', 'tot_cur_bal', 'total_rev_hi_lim',\n",
              "       'loan_status'],\n",
              "      dtype='object')"
            ]
          },
          "metadata": {
            "tags": []
          },
          "execution_count": 26
        }
      ]
    },
    {
      "cell_type": "code",
      "metadata": {
        "id": "GRhO_fa0prqq",
        "colab_type": "code",
        "colab": {}
      },
      "source": [
        "finalTrain=train.copy()\n",
        "finalTrain = finalTrain.drop(['loan_status'],axis=1)\n",
        "\n",
        "finalTest=test.copy()\n"
      ],
      "execution_count": 27,
      "outputs": []
    },
    {
      "cell_type": "code",
      "metadata": {
        "id": "YlhUDtJ0q_2o",
        "colab_type": "code",
        "colab": {
          "base_uri": "https://localhost:8080/",
          "height": 34
        },
        "outputId": "80e06fc7-c7a0-4e05-a98f-6b4c8bee4eef"
      },
      "source": [
        "finalTrain.shape , finalTest.shape"
      ],
      "execution_count": 28,
      "outputs": [
        {
          "output_type": "execute_result",
          "data": {
            "text/plain": [
              "((532428, 44), (354951, 44))"
            ]
          },
          "metadata": {
            "tags": []
          },
          "execution_count": 28
        }
      ]
    },
    {
      "cell_type": "code",
      "metadata": {
        "id": "_r8T88d6rDkt",
        "colab_type": "code",
        "colab": {}
      },
      "source": [
        "import math\n",
        "\n",
        "# How big the loan a person has taken with respect to his earnings, annual income to fund by bank ratio\n",
        "finalTrain['income_to_loan'] = np.round_(finalTrain['annual_inc']/finalTrain['funded_amnt'],decimals = 2)\n",
        "finalTest['income_to_loan'] = np.round_(finalTest['annual_inc']/finalTest['funded_amnt'],decimals = 2)\n",
        "\n",
        "\n",
        "# How big the loan a person has taken with respect to his earnings, annual income to fund by investors ratio\n",
        "finalTrain['income_to_loan_inv'] = np.round_(finalTrain['annual_inc']/finalTrain['funded_amnt_inv'],decimals = 2)\n",
        "finalTest['income_to_loan_inv'] = np.round_(finalTest['annual_inc']/finalTest['funded_amnt_inv'],decimals = 2)\n",
        "\n",
        "\n",
        "# Interest paid so far = interest received till date + Late fee received till date\n",
        "finalTrain['total_int_paid'] = finalTrain['total_rec_int'] + finalTrain['total_rec_late_fee']\n",
        "finalTest['total_int_paid'] = finalTest['total_rec_int'] + finalTest['total_rec_late_fee']\n",
        "\n",
        "# Calculating EMIs (monthly)\n",
        "#EMI = [P x R x (1+R)^N]/[(1+R)^N-1]\n",
        "P_tr=finalTrain['loan_amnt']\n",
        "r_tr=finalTrain['int_rate'] /(100*12)\n",
        "n_tr=finalTrain['term']\n",
        "\n",
        "P_te=finalTest['loan_amnt']\n",
        "r_te=finalTest['int_rate'] /(100*12)\n",
        "n_te=finalTest['term']\n",
        "\n",
        "finalTrain['emi_per_month'] = np.round_((P_tr * r_tr * (1+r_tr)**n_tr)/((1+r_tr)**(n_tr)-1),decimals = 2)\n",
        "finalTest['emi_per_month']= np.round_((P_te * r_te * (1+r_te)**n_te)/((1+r_te)**(n_te)-1),decimals = 2)\n",
        "\n",
        "# Calculating EMIs paid (in terms of percent)np.round_(in_array, decimals = 3)\n",
        "finalTrain['emi_paid_perc'] = np.round_(((finalTrain['last_week_pay'])/(finalTrain['term']/12*52+1))*100,decimals = 2)\n",
        "finalTest['emi_paid_perc'] = np.round_(((finalTest['last_week_pay']/(finalTest['term']/12*52+1))*100),decimals = 2)\n"
      ],
      "execution_count": 29,
      "outputs": []
    },
    {
      "cell_type": "code",
      "metadata": {
        "id": "wehLV34s-wC6",
        "colab_type": "code",
        "colab": {
          "base_uri": "https://localhost:8080/",
          "height": 34
        },
        "outputId": "4602a125-28e7-40af-b052-d54121fae1ca"
      },
      "source": [
        "finalTrain.shape, finalTest.shape"
      ],
      "execution_count": 30,
      "outputs": [
        {
          "output_type": "execute_result",
          "data": {
            "text/plain": [
              "((532428, 49), (354951, 49))"
            ]
          },
          "metadata": {
            "tags": []
          },
          "execution_count": 30
        }
      ]
    },
    {
      "cell_type": "markdown",
      "metadata": {
        "id": "QyTAc1cX8UNz",
        "colab_type": "text"
      },
      "source": [
        "## Vectorising 'batch_enrolled' feature"
      ]
    },
    {
      "cell_type": "code",
      "metadata": {
        "id": "zMzjZfD76W90",
        "colab_type": "code",
        "colab": {}
      },
      "source": [
        "# from sklearn.feature_extraction.text import TfidfVectorizer\n",
        "# finalTrain['batch_enrolled'] = finalTrain['batch_enrolled'].fillna('missing')\n",
        "# finalTest['batch_enrolled'] = finalTest['batch_enrolled'].fillna('missing')\n",
        "\n",
        "# v = TfidfVectorizer(min_df=3,  max_features=None, \n",
        "#             strip_accents='unicode', analyzer='word',token_pattern=r'\\w{1,}',\n",
        "#             ngram_range=(1, 3), use_idf=1,smooth_idf=1,sublinear_tf=1,\n",
        "#             stop_words = 'english')\n",
        "\n",
        "# x_tr = v.fit_transform(finalTrain['batch_enrolled'])\n",
        "# x_te = v.transform(finalTest['batch_enrolled'])"
      ],
      "execution_count": 31,
      "outputs": []
    },
    {
      "cell_type": "code",
      "metadata": {
        "id": "oi7t9x_n7XMa",
        "colab_type": "code",
        "colab": {}
      },
      "source": [
        "# x_tr.shape , x_te.shape"
      ],
      "execution_count": 32,
      "outputs": []
    },
    {
      "cell_type": "code",
      "metadata": {
        "id": "DX9y6Ony7cwj",
        "colab_type": "code",
        "colab": {}
      },
      "source": [
        "# df_tr = pd.DataFrame(x_tr.toarray(), columns=v.get_feature_names())\n",
        "# df_te = pd.DataFrame(x_te.toarray(), columns=v.get_feature_names())\n",
        "\n",
        "# res_train = pd.concat([finalTrain, df_tr], axis=1)\n",
        "# res_test = pd.concat([finalTest, df_te], axis=1)\n",
        "\n",
        "\n",
        "# res_train.drop('batch_enrolled',axis=1,inplace=True)\n",
        "# res_test.drop('batch_enrolled',axis=1,inplace=True)"
      ],
      "execution_count": 33,
      "outputs": []
    },
    {
      "cell_type": "code",
      "metadata": {
        "id": "OPrt-XN47pkp",
        "colab_type": "code",
        "colab": {}
      },
      "source": [
        "cols = ['grade','emp_title','verification_status_joint','verification_status','pymnt_plan','desc','purpose','title','zip_code','addr_state','initial_list_status', 'application_type']\n",
        "\n",
        "for col in cols:\n",
        "    finalTrain[col].fillna('missing', inplace=True)\n",
        "    finalTest[col].fillna('missing', inplace=True)\n"
      ],
      "execution_count": 34,
      "outputs": []
    },
    {
      "cell_type": "code",
      "metadata": {
        "id": "TVdTEdMz7-ek",
        "colab_type": "code",
        "colab": {
          "base_uri": "https://localhost:8080/",
          "height": 745
        },
        "outputId": "15a5df50-6d99-4dce-9895-c1637bf598f4"
      },
      "source": [
        "finalTrain.fillna(0)\n",
        "finalTest.fillna(0)"
      ],
      "execution_count": 35,
      "outputs": [
        {
          "output_type": "execute_result",
          "data": {
            "text/html": [
              "<div>\n",
              "<style scoped>\n",
              "    .dataframe tbody tr th:only-of-type {\n",
              "        vertical-align: middle;\n",
              "    }\n",
              "\n",
              "    .dataframe tbody tr th {\n",
              "        vertical-align: top;\n",
              "    }\n",
              "\n",
              "    .dataframe thead th {\n",
              "        text-align: right;\n",
              "    }\n",
              "</style>\n",
              "<table border=\"1\" class=\"dataframe\">\n",
              "  <thead>\n",
              "    <tr style=\"text-align: right;\">\n",
              "      <th></th>\n",
              "      <th>member_id</th>\n",
              "      <th>loan_amnt</th>\n",
              "      <th>funded_amnt</th>\n",
              "      <th>funded_amnt_inv</th>\n",
              "      <th>term</th>\n",
              "      <th>batch_enrolled</th>\n",
              "      <th>int_rate</th>\n",
              "      <th>grade</th>\n",
              "      <th>sub_grade</th>\n",
              "      <th>emp_title</th>\n",
              "      <th>emp_length</th>\n",
              "      <th>home_ownership</th>\n",
              "      <th>annual_inc</th>\n",
              "      <th>verification_status</th>\n",
              "      <th>pymnt_plan</th>\n",
              "      <th>desc</th>\n",
              "      <th>purpose</th>\n",
              "      <th>title</th>\n",
              "      <th>zip_code</th>\n",
              "      <th>addr_state</th>\n",
              "      <th>dti</th>\n",
              "      <th>delinq_2yrs</th>\n",
              "      <th>inq_last_6mths</th>\n",
              "      <th>mths_since_last_delinq</th>\n",
              "      <th>mths_since_last_record</th>\n",
              "      <th>open_acc</th>\n",
              "      <th>pub_rec</th>\n",
              "      <th>revol_bal</th>\n",
              "      <th>revol_util</th>\n",
              "      <th>total_acc</th>\n",
              "      <th>initial_list_status</th>\n",
              "      <th>total_rec_int</th>\n",
              "      <th>total_rec_late_fee</th>\n",
              "      <th>recoveries</th>\n",
              "      <th>collection_recovery_fee</th>\n",
              "      <th>collections_12_mths_ex_med</th>\n",
              "      <th>mths_since_last_major_derog</th>\n",
              "      <th>application_type</th>\n",
              "      <th>verification_status_joint</th>\n",
              "      <th>last_week_pay</th>\n",
              "      <th>acc_now_delinq</th>\n",
              "      <th>tot_coll_amt</th>\n",
              "      <th>tot_cur_bal</th>\n",
              "      <th>total_rev_hi_lim</th>\n",
              "      <th>income_to_loan</th>\n",
              "      <th>income_to_loan_inv</th>\n",
              "      <th>total_int_paid</th>\n",
              "      <th>emi_per_month</th>\n",
              "      <th>emi_paid_perc</th>\n",
              "    </tr>\n",
              "  </thead>\n",
              "  <tbody>\n",
              "    <tr>\n",
              "      <th>0</th>\n",
              "      <td>11937648</td>\n",
              "      <td>14000</td>\n",
              "      <td>14000</td>\n",
              "      <td>14000.0</td>\n",
              "      <td>60</td>\n",
              "      <td>BAT4711174</td>\n",
              "      <td>16.24</td>\n",
              "      <td>C</td>\n",
              "      <td>25</td>\n",
              "      <td>Data Analyst</td>\n",
              "      <td>4.0</td>\n",
              "      <td>11937648</td>\n",
              "      <td>73500.0</td>\n",
              "      <td>Source Verified</td>\n",
              "      <td>n</td>\n",
              "      <td>missing</td>\n",
              "      <td>11937648</td>\n",
              "      <td>wrap it up</td>\n",
              "      <td>450xx</td>\n",
              "      <td>OH</td>\n",
              "      <td>28.65</td>\n",
              "      <td>1.0</td>\n",
              "      <td>1.0</td>\n",
              "      <td>20.0</td>\n",
              "      <td>70.0</td>\n",
              "      <td>16.0</td>\n",
              "      <td>0.0</td>\n",
              "      <td>29828</td>\n",
              "      <td>65.3</td>\n",
              "      <td>53.0</td>\n",
              "      <td>f</td>\n",
              "      <td>3915.61</td>\n",
              "      <td>0.0</td>\n",
              "      <td>0.0</td>\n",
              "      <td>0.0</td>\n",
              "      <td>0.0</td>\n",
              "      <td>44.0</td>\n",
              "      <td>INDIVIDUAL</td>\n",
              "      <td>missing</td>\n",
              "      <td>104.0</td>\n",
              "      <td>0.0</td>\n",
              "      <td>0.0</td>\n",
              "      <td>85230.0</td>\n",
              "      <td>45700.0</td>\n",
              "      <td>5.25</td>\n",
              "      <td>5.25</td>\n",
              "      <td>3915.61</td>\n",
              "      <td>342.24</td>\n",
              "      <td>39.85</td>\n",
              "    </tr>\n",
              "    <tr>\n",
              "      <th>1</th>\n",
              "      <td>38983318</td>\n",
              "      <td>16000</td>\n",
              "      <td>16000</td>\n",
              "      <td>16000.0</td>\n",
              "      <td>60</td>\n",
              "      <td>BAT4318899</td>\n",
              "      <td>9.49</td>\n",
              "      <td>B</td>\n",
              "      <td>12</td>\n",
              "      <td>Senior Database Administrator</td>\n",
              "      <td>5.0</td>\n",
              "      <td>38983318</td>\n",
              "      <td>105000.0</td>\n",
              "      <td>Source Verified</td>\n",
              "      <td>n</td>\n",
              "      <td>missing</td>\n",
              "      <td>38983318</td>\n",
              "      <td>Major purchase</td>\n",
              "      <td>275xx</td>\n",
              "      <td>NC</td>\n",
              "      <td>31.19</td>\n",
              "      <td>0.0</td>\n",
              "      <td>0.0</td>\n",
              "      <td>31.0</td>\n",
              "      <td>70.0</td>\n",
              "      <td>8.0</td>\n",
              "      <td>0.0</td>\n",
              "      <td>4161</td>\n",
              "      <td>19.4</td>\n",
              "      <td>63.0</td>\n",
              "      <td>w</td>\n",
              "      <td>1495.06</td>\n",
              "      <td>0.0</td>\n",
              "      <td>0.0</td>\n",
              "      <td>0.0</td>\n",
              "      <td>0.0</td>\n",
              "      <td>44.0</td>\n",
              "      <td>INDIVIDUAL</td>\n",
              "      <td>missing</td>\n",
              "      <td>57.0</td>\n",
              "      <td>0.0</td>\n",
              "      <td>0.0</td>\n",
              "      <td>444991.0</td>\n",
              "      <td>21400.0</td>\n",
              "      <td>6.56</td>\n",
              "      <td>6.56</td>\n",
              "      <td>1495.06</td>\n",
              "      <td>335.95</td>\n",
              "      <td>21.84</td>\n",
              "    </tr>\n",
              "    <tr>\n",
              "      <th>2</th>\n",
              "      <td>27999917</td>\n",
              "      <td>11050</td>\n",
              "      <td>11050</td>\n",
              "      <td>11050.0</td>\n",
              "      <td>60</td>\n",
              "      <td>BAT446479</td>\n",
              "      <td>15.61</td>\n",
              "      <td>D</td>\n",
              "      <td>31</td>\n",
              "      <td>Customer service representative</td>\n",
              "      <td>10.0</td>\n",
              "      <td>27999917</td>\n",
              "      <td>62300.0</td>\n",
              "      <td>Not Verified</td>\n",
              "      <td>n</td>\n",
              "      <td>missing</td>\n",
              "      <td>27999917</td>\n",
              "      <td>Debt consolidation</td>\n",
              "      <td>672xx</td>\n",
              "      <td>KS</td>\n",
              "      <td>21.73</td>\n",
              "      <td>1.0</td>\n",
              "      <td>0.0</td>\n",
              "      <td>23.0</td>\n",
              "      <td>115.0</td>\n",
              "      <td>11.0</td>\n",
              "      <td>1.0</td>\n",
              "      <td>12064</td>\n",
              "      <td>74.0</td>\n",
              "      <td>20.0</td>\n",
              "      <td>w</td>\n",
              "      <td>2096.21</td>\n",
              "      <td>0.0</td>\n",
              "      <td>0.0</td>\n",
              "      <td>0.0</td>\n",
              "      <td>0.0</td>\n",
              "      <td>26.0</td>\n",
              "      <td>INDIVIDUAL</td>\n",
              "      <td>missing</td>\n",
              "      <td>70.0</td>\n",
              "      <td>0.0</td>\n",
              "      <td>0.0</td>\n",
              "      <td>105737.0</td>\n",
              "      <td>16300.0</td>\n",
              "      <td>5.64</td>\n",
              "      <td>5.64</td>\n",
              "      <td>2096.21</td>\n",
              "      <td>266.43</td>\n",
              "      <td>26.82</td>\n",
              "    </tr>\n",
              "    <tr>\n",
              "      <th>3</th>\n",
              "      <td>61514932</td>\n",
              "      <td>35000</td>\n",
              "      <td>35000</td>\n",
              "      <td>34700.0</td>\n",
              "      <td>60</td>\n",
              "      <td>BAT4664105</td>\n",
              "      <td>12.69</td>\n",
              "      <td>C</td>\n",
              "      <td>22</td>\n",
              "      <td>ACCT OFFICER</td>\n",
              "      <td>10.0</td>\n",
              "      <td>61514932</td>\n",
              "      <td>150000.0</td>\n",
              "      <td>Source Verified</td>\n",
              "      <td>n</td>\n",
              "      <td>missing</td>\n",
              "      <td>61514932</td>\n",
              "      <td>Debt consolidation</td>\n",
              "      <td>961xx</td>\n",
              "      <td>CA</td>\n",
              "      <td>17.27</td>\n",
              "      <td>0.0</td>\n",
              "      <td>0.0</td>\n",
              "      <td>31.0</td>\n",
              "      <td>70.0</td>\n",
              "      <td>21.0</td>\n",
              "      <td>0.0</td>\n",
              "      <td>32549</td>\n",
              "      <td>45.0</td>\n",
              "      <td>26.0</td>\n",
              "      <td>f</td>\n",
              "      <td>1756.31</td>\n",
              "      <td>0.0</td>\n",
              "      <td>0.0</td>\n",
              "      <td>0.0</td>\n",
              "      <td>0.0</td>\n",
              "      <td>44.0</td>\n",
              "      <td>INDIVIDUAL</td>\n",
              "      <td>missing</td>\n",
              "      <td>22.0</td>\n",
              "      <td>0.0</td>\n",
              "      <td>0.0</td>\n",
              "      <td>287022.0</td>\n",
              "      <td>72400.0</td>\n",
              "      <td>4.29</td>\n",
              "      <td>4.32</td>\n",
              "      <td>1756.31</td>\n",
              "      <td>790.81</td>\n",
              "      <td>8.43</td>\n",
              "    </tr>\n",
              "    <tr>\n",
              "      <th>4</th>\n",
              "      <td>59622821</td>\n",
              "      <td>6500</td>\n",
              "      <td>6500</td>\n",
              "      <td>6500.0</td>\n",
              "      <td>36</td>\n",
              "      <td></td>\n",
              "      <td>6.89</td>\n",
              "      <td>A</td>\n",
              "      <td>3</td>\n",
              "      <td>Paralegal</td>\n",
              "      <td>5.0</td>\n",
              "      <td>59622821</td>\n",
              "      <td>52000.0</td>\n",
              "      <td>Not Verified</td>\n",
              "      <td>n</td>\n",
              "      <td>missing</td>\n",
              "      <td>59622821</td>\n",
              "      <td>Major purchase</td>\n",
              "      <td>707xx</td>\n",
              "      <td>LA</td>\n",
              "      <td>20.19</td>\n",
              "      <td>0.0</td>\n",
              "      <td>0.0</td>\n",
              "      <td>31.0</td>\n",
              "      <td>70.0</td>\n",
              "      <td>16.0</td>\n",
              "      <td>0.0</td>\n",
              "      <td>5133</td>\n",
              "      <td>19.2</td>\n",
              "      <td>36.0</td>\n",
              "      <td>w</td>\n",
              "      <td>172.21</td>\n",
              "      <td>0.0</td>\n",
              "      <td>0.0</td>\n",
              "      <td>0.0</td>\n",
              "      <td>0.0</td>\n",
              "      <td>44.0</td>\n",
              "      <td>INDIVIDUAL</td>\n",
              "      <td>missing</td>\n",
              "      <td>22.0</td>\n",
              "      <td>0.0</td>\n",
              "      <td>0.0</td>\n",
              "      <td>234278.0</td>\n",
              "      <td>26700.0</td>\n",
              "      <td>8.00</td>\n",
              "      <td>8.00</td>\n",
              "      <td>172.21</td>\n",
              "      <td>200.37</td>\n",
              "      <td>14.01</td>\n",
              "    </tr>\n",
              "    <tr>\n",
              "      <th>...</th>\n",
              "      <td>...</td>\n",
              "      <td>...</td>\n",
              "      <td>...</td>\n",
              "      <td>...</td>\n",
              "      <td>...</td>\n",
              "      <td>...</td>\n",
              "      <td>...</td>\n",
              "      <td>...</td>\n",
              "      <td>...</td>\n",
              "      <td>...</td>\n",
              "      <td>...</td>\n",
              "      <td>...</td>\n",
              "      <td>...</td>\n",
              "      <td>...</td>\n",
              "      <td>...</td>\n",
              "      <td>...</td>\n",
              "      <td>...</td>\n",
              "      <td>...</td>\n",
              "      <td>...</td>\n",
              "      <td>...</td>\n",
              "      <td>...</td>\n",
              "      <td>...</td>\n",
              "      <td>...</td>\n",
              "      <td>...</td>\n",
              "      <td>...</td>\n",
              "      <td>...</td>\n",
              "      <td>...</td>\n",
              "      <td>...</td>\n",
              "      <td>...</td>\n",
              "      <td>...</td>\n",
              "      <td>...</td>\n",
              "      <td>...</td>\n",
              "      <td>...</td>\n",
              "      <td>...</td>\n",
              "      <td>...</td>\n",
              "      <td>...</td>\n",
              "      <td>...</td>\n",
              "      <td>...</td>\n",
              "      <td>...</td>\n",
              "      <td>...</td>\n",
              "      <td>...</td>\n",
              "      <td>...</td>\n",
              "      <td>...</td>\n",
              "      <td>...</td>\n",
              "      <td>...</td>\n",
              "      <td>...</td>\n",
              "      <td>...</td>\n",
              "      <td>...</td>\n",
              "      <td>...</td>\n",
              "    </tr>\n",
              "    <tr>\n",
              "      <th>354946</th>\n",
              "      <td>19145105</td>\n",
              "      <td>15000</td>\n",
              "      <td>15000</td>\n",
              "      <td>15000.0</td>\n",
              "      <td>36</td>\n",
              "      <td>BAT4217242</td>\n",
              "      <td>6.49</td>\n",
              "      <td>A</td>\n",
              "      <td>2</td>\n",
              "      <td>Network administrator</td>\n",
              "      <td>1.0</td>\n",
              "      <td>19145105</td>\n",
              "      <td>97250.0</td>\n",
              "      <td>Not Verified</td>\n",
              "      <td>n</td>\n",
              "      <td>missing</td>\n",
              "      <td>19145105</td>\n",
              "      <td>Credit card refinancing</td>\n",
              "      <td>761xx</td>\n",
              "      <td>TX</td>\n",
              "      <td>12.46</td>\n",
              "      <td>0.0</td>\n",
              "      <td>0.0</td>\n",
              "      <td>77.0</td>\n",
              "      <td>70.0</td>\n",
              "      <td>12.0</td>\n",
              "      <td>0.0</td>\n",
              "      <td>12201</td>\n",
              "      <td>27.7</td>\n",
              "      <td>24.0</td>\n",
              "      <td>w</td>\n",
              "      <td>1180.32</td>\n",
              "      <td>0.0</td>\n",
              "      <td>0.0</td>\n",
              "      <td>0.0</td>\n",
              "      <td>0.0</td>\n",
              "      <td>77.0</td>\n",
              "      <td>INDIVIDUAL</td>\n",
              "      <td>missing</td>\n",
              "      <td>83.0</td>\n",
              "      <td>0.0</td>\n",
              "      <td>0.0</td>\n",
              "      <td>143920.0</td>\n",
              "      <td>44000.0</td>\n",
              "      <td>6.48</td>\n",
              "      <td>6.48</td>\n",
              "      <td>1180.32</td>\n",
              "      <td>459.67</td>\n",
              "      <td>52.87</td>\n",
              "    </tr>\n",
              "    <tr>\n",
              "      <th>354947</th>\n",
              "      <td>46304777</td>\n",
              "      <td>35000</td>\n",
              "      <td>35000</td>\n",
              "      <td>35000.0</td>\n",
              "      <td>60</td>\n",
              "      <td></td>\n",
              "      <td>25.89</td>\n",
              "      <td>G</td>\n",
              "      <td>63</td>\n",
              "      <td>Credit Risk Analyst</td>\n",
              "      <td>1.0</td>\n",
              "      <td>46304777</td>\n",
              "      <td>180000.0</td>\n",
              "      <td>Verified</td>\n",
              "      <td>n</td>\n",
              "      <td>missing</td>\n",
              "      <td>46304777</td>\n",
              "      <td>Debt consolidation</td>\n",
              "      <td>115xx</td>\n",
              "      <td>NY</td>\n",
              "      <td>11.78</td>\n",
              "      <td>2.0</td>\n",
              "      <td>2.0</td>\n",
              "      <td>19.0</td>\n",
              "      <td>70.0</td>\n",
              "      <td>21.0</td>\n",
              "      <td>0.0</td>\n",
              "      <td>52584</td>\n",
              "      <td>61.4</td>\n",
              "      <td>33.0</td>\n",
              "      <td>f</td>\n",
              "      <td>6508.41</td>\n",
              "      <td>0.0</td>\n",
              "      <td>0.0</td>\n",
              "      <td>0.0</td>\n",
              "      <td>0.0</td>\n",
              "      <td>44.0</td>\n",
              "      <td>INDIVIDUAL</td>\n",
              "      <td>missing</td>\n",
              "      <td>39.0</td>\n",
              "      <td>0.0</td>\n",
              "      <td>0.0</td>\n",
              "      <td>772713.0</td>\n",
              "      <td>85700.0</td>\n",
              "      <td>5.14</td>\n",
              "      <td>5.14</td>\n",
              "      <td>6508.41</td>\n",
              "      <td>1045.64</td>\n",
              "      <td>14.94</td>\n",
              "    </tr>\n",
              "    <tr>\n",
              "      <th>354948</th>\n",
              "      <td>903745</td>\n",
              "      <td>14000</td>\n",
              "      <td>14000</td>\n",
              "      <td>13975.0</td>\n",
              "      <td>60</td>\n",
              "      <td>BAT6117184</td>\n",
              "      <td>17.51</td>\n",
              "      <td>E</td>\n",
              "      <td>44</td>\n",
              "      <td>USPS/Nashua L&amp;DC</td>\n",
              "      <td>10.0</td>\n",
              "      <td>903745</td>\n",
              "      <td>56000.0</td>\n",
              "      <td>Verified</td>\n",
              "      <td>n</td>\n",
              "      <td>I will be using the loan money to pay off the ...</td>\n",
              "      <td>903745</td>\n",
              "      <td>Debt Consolidation</td>\n",
              "      <td>038xx</td>\n",
              "      <td>NH</td>\n",
              "      <td>16.44</td>\n",
              "      <td>0.0</td>\n",
              "      <td>3.0</td>\n",
              "      <td>54.0</td>\n",
              "      <td>103.0</td>\n",
              "      <td>11.0</td>\n",
              "      <td>1.0</td>\n",
              "      <td>10948</td>\n",
              "      <td>66.1</td>\n",
              "      <td>25.0</td>\n",
              "      <td>f</td>\n",
              "      <td>3456.24</td>\n",
              "      <td>0.0</td>\n",
              "      <td>0.0</td>\n",
              "      <td>0.0</td>\n",
              "      <td>0.0</td>\n",
              "      <td>44.0</td>\n",
              "      <td>INDIVIDUAL</td>\n",
              "      <td>missing</td>\n",
              "      <td>87.0</td>\n",
              "      <td>0.0</td>\n",
              "      <td>0.0</td>\n",
              "      <td>80369.0</td>\n",
              "      <td>23700.0</td>\n",
              "      <td>4.00</td>\n",
              "      <td>4.01</td>\n",
              "      <td>3456.24</td>\n",
              "      <td>351.79</td>\n",
              "      <td>33.33</td>\n",
              "    </tr>\n",
              "    <tr>\n",
              "      <th>354949</th>\n",
              "      <td>53032475</td>\n",
              "      <td>20000</td>\n",
              "      <td>20000</td>\n",
              "      <td>20000.0</td>\n",
              "      <td>36</td>\n",
              "      <td>BAT3840785</td>\n",
              "      <td>7.26</td>\n",
              "      <td>A</td>\n",
              "      <td>4</td>\n",
              "      <td>Computer Engineer</td>\n",
              "      <td>0.0</td>\n",
              "      <td>53032475</td>\n",
              "      <td>100000.0</td>\n",
              "      <td>Source Verified</td>\n",
              "      <td>n</td>\n",
              "      <td>missing</td>\n",
              "      <td>53032475</td>\n",
              "      <td>Credit card refinancing</td>\n",
              "      <td>206xx</td>\n",
              "      <td>MD</td>\n",
              "      <td>15.00</td>\n",
              "      <td>0.0</td>\n",
              "      <td>0.0</td>\n",
              "      <td>31.0</td>\n",
              "      <td>70.0</td>\n",
              "      <td>7.0</td>\n",
              "      <td>0.0</td>\n",
              "      <td>33599</td>\n",
              "      <td>61.5</td>\n",
              "      <td>11.0</td>\n",
              "      <td>w</td>\n",
              "      <td>766.84</td>\n",
              "      <td>0.0</td>\n",
              "      <td>0.0</td>\n",
              "      <td>0.0</td>\n",
              "      <td>0.0</td>\n",
              "      <td>44.0</td>\n",
              "      <td>INDIVIDUAL</td>\n",
              "      <td>missing</td>\n",
              "      <td>35.0</td>\n",
              "      <td>0.0</td>\n",
              "      <td>0.0</td>\n",
              "      <td>291998.0</td>\n",
              "      <td>54600.0</td>\n",
              "      <td>5.00</td>\n",
              "      <td>5.00</td>\n",
              "      <td>766.84</td>\n",
              "      <td>619.92</td>\n",
              "      <td>22.29</td>\n",
              "    </tr>\n",
              "    <tr>\n",
              "      <th>354950</th>\n",
              "      <td>994245</td>\n",
              "      <td>2700</td>\n",
              "      <td>2700</td>\n",
              "      <td>2450.0</td>\n",
              "      <td>60</td>\n",
              "      <td>0</td>\n",
              "      <td>7.49</td>\n",
              "      <td>A</td>\n",
              "      <td>4</td>\n",
              "      <td>Jimmy John's Sandwiches</td>\n",
              "      <td>2.0</td>\n",
              "      <td>994245</td>\n",
              "      <td>12000.0</td>\n",
              "      <td>Not Verified</td>\n",
              "      <td>n</td>\n",
              "      <td>&gt; This loan will be used to pay for another...</td>\n",
              "      <td>994245</td>\n",
              "      <td>Debt Consolidation Loan</td>\n",
              "      <td>323xx</td>\n",
              "      <td>FL</td>\n",
              "      <td>28.00</td>\n",
              "      <td>0.0</td>\n",
              "      <td>0.0</td>\n",
              "      <td>31.0</td>\n",
              "      <td>70.0</td>\n",
              "      <td>7.0</td>\n",
              "      <td>0.0</td>\n",
              "      <td>5118</td>\n",
              "      <td>25.8</td>\n",
              "      <td>7.0</td>\n",
              "      <td>f</td>\n",
              "      <td>326.06</td>\n",
              "      <td>0.0</td>\n",
              "      <td>0.0</td>\n",
              "      <td>0.0</td>\n",
              "      <td>0.0</td>\n",
              "      <td>44.0</td>\n",
              "      <td>INDIVIDUAL</td>\n",
              "      <td>missing</td>\n",
              "      <td>104.0</td>\n",
              "      <td>0.0</td>\n",
              "      <td>0.0</td>\n",
              "      <td>80369.0</td>\n",
              "      <td>23700.0</td>\n",
              "      <td>4.44</td>\n",
              "      <td>4.90</td>\n",
              "      <td>326.06</td>\n",
              "      <td>54.09</td>\n",
              "      <td>39.85</td>\n",
              "    </tr>\n",
              "  </tbody>\n",
              "</table>\n",
              "<p>354951 rows × 49 columns</p>\n",
              "</div>"
            ],
            "text/plain": [
              "        member_id  loan_amnt  ...  emi_per_month  emi_paid_perc\n",
              "0        11937648      14000  ...         342.24          39.85\n",
              "1        38983318      16000  ...         335.95          21.84\n",
              "2        27999917      11050  ...         266.43          26.82\n",
              "3        61514932      35000  ...         790.81           8.43\n",
              "4        59622821       6500  ...         200.37          14.01\n",
              "...           ...        ...  ...            ...            ...\n",
              "354946   19145105      15000  ...         459.67          52.87\n",
              "354947   46304777      35000  ...        1045.64          14.94\n",
              "354948     903745      14000  ...         351.79          33.33\n",
              "354949   53032475      20000  ...         619.92          22.29\n",
              "354950     994245       2700  ...          54.09          39.85\n",
              "\n",
              "[354951 rows x 49 columns]"
            ]
          },
          "metadata": {
            "tags": []
          },
          "execution_count": 35
        }
      ]
    },
    {
      "cell_type": "code",
      "metadata": {
        "id": "N9HOYhk6-Z5c",
        "colab_type": "code",
        "colab": {}
      },
      "source": [
        "finalTrain.reset_index(inplace=True)\n",
        "finalTest.reset_index(inplace=True)"
      ],
      "execution_count": 36,
      "outputs": []
    },
    {
      "cell_type": "markdown",
      "metadata": {
        "id": "ccTQy5Gk_UUQ",
        "colab_type": "text"
      },
      "source": [
        "## vectorising grade feature"
      ]
    },
    {
      "cell_type": "code",
      "metadata": {
        "id": "nh-oWYX__TVr",
        "colab_type": "code",
        "colab": {
          "base_uri": "https://localhost:8080/",
          "height": 51
        },
        "outputId": "373c6eaf-2b23-4724-994e-06e7507eaf20"
      },
      "source": [
        "from sklearn.feature_extraction.text import TfidfVectorizer\n",
        "\n",
        "v = TfidfVectorizer(min_df=3,  max_features=None, \n",
        "            strip_accents='unicode', analyzer='word',token_pattern=r'\\w{1,}',\n",
        "            ngram_range=(1, 3), use_idf=1,smooth_idf=1,sublinear_tf=1,\n",
        "            stop_words = 'english')\n",
        "\n",
        "x_tr = v.fit_transform(finalTrain['grade'])\n",
        "x_te = v.transform(finalTest['grade'])\n",
        "\n",
        "print(x_tr.shape , x_te.shape)\n",
        "\n",
        "df_tr = pd.DataFrame(x_tr.toarray(), columns=v.get_feature_names())\n",
        "df_te = pd.DataFrame(x_te.toarray(), columns=v.get_feature_names())\n",
        "\n",
        "res_train = pd.concat([finalTrain, df_tr], axis=1)\n",
        "res_test = pd.concat([finalTest, df_te], axis=1)\n",
        "\n",
        "\n",
        "res_train.drop('grade',axis=1,inplace=True)\n",
        "res_test.drop('grade',axis=1,inplace=True)\n",
        "\n",
        "print(res_train.shape , res_test.shape)\n"
      ],
      "execution_count": 37,
      "outputs": [
        {
          "output_type": "stream",
          "text": [
            "(532428, 6) (354951, 6)\n",
            "(532428, 55) (354951, 55)\n"
          ],
          "name": "stdout"
        }
      ]
    },
    {
      "cell_type": "markdown",
      "metadata": {
        "id": "M1rRD3lOBfJJ",
        "colab_type": "text"
      },
      "source": [
        "## vectorising emp_title feature"
      ]
    },
    {
      "cell_type": "code",
      "metadata": {
        "id": "QfMKckvIDyg5",
        "colab_type": "code",
        "colab": {}
      },
      "source": [
        "# preprocessed_grade_tr = []\n",
        "# for i in res_train['emp_title']:\n",
        "#   preprocessed_grade_tr.append(i.replace(' ','_'))\n",
        "\n",
        "# preprocessed_grade_te = []\n",
        "# for i in res_test['emp_title']:\n",
        "#   preprocessed_grade_te.append(i.replace(' ','_'))\n"
      ],
      "execution_count": 38,
      "outputs": []
    },
    {
      "cell_type": "code",
      "metadata": {
        "id": "HtO2hXkLEYEe",
        "colab_type": "code",
        "colab": {}
      },
      "source": [
        "# res_train['clean_emp_title'] = preprocessed_grade_tr\n",
        "# res_train.drop(['emp_title'], axis=1)\n",
        "\n",
        "# res_test['clean_emp_title'] = preprocessed_grade_te\n",
        "# res_test.drop(['emp_title'], axis=1)"
      ],
      "execution_count": 39,
      "outputs": []
    },
    {
      "cell_type": "code",
      "metadata": {
        "id": "53lgnaAF_Tg3",
        "colab_type": "code",
        "colab": {}
      },
      "source": [
        "# from sklearn.feature_extraction.text import TfidfVectorizer\n",
        "\n",
        "# v = TfidfVectorizer(min_df=3,  max_features=100, \n",
        "#             strip_accents='unicode', analyzer='word',token_pattern=r'\\w{1,}',\n",
        "#             ngram_range=(1, 3), use_idf=1,smooth_idf=1,sublinear_tf=1,\n",
        "#             stop_words = 'english')\n",
        "\n",
        "# x_tr = v.fit_transform(res_train['emp_title'])\n",
        "# x_te = v.transform(res_test['emp_title'])\n",
        "\n",
        "# print(x_tr.shape , x_te.shape)\n",
        "\n",
        "# df_tr = pd.DataFrame(x_tr.toarray(), columns=v.get_feature_names())\n",
        "# df_te = pd.DataFrame(x_te.toarray(), columns=v.get_feature_names())\n",
        "\n",
        "# res_train = pd.concat([res_train, df_tr], axis=1)\n",
        "# res_test = pd.concat([res_test, df_te], axis=1)\n",
        "\n",
        "\n",
        "# res_train.drop('emp_title',axis=1,inplace=True)\n",
        "# res_test.drop('emp_title',axis=1,inplace=True)\n",
        "\n",
        "# print(res_train.shape , res_test.shape)\n"
      ],
      "execution_count": 40,
      "outputs": []
    },
    {
      "cell_type": "markdown",
      "metadata": {
        "id": "Nu_PrM_zI0-T",
        "colab_type": "text"
      },
      "source": [
        "## Vectorise verification status"
      ]
    },
    {
      "cell_type": "code",
      "metadata": {
        "id": "VT46mCMaIz8T",
        "colab_type": "code",
        "colab": {
          "base_uri": "https://localhost:8080/",
          "height": 51
        },
        "outputId": "abc8edec-41cf-4a75-877c-28f21405a316"
      },
      "source": [
        "from sklearn.feature_extraction.text import TfidfVectorizer\n",
        "\n",
        "v = TfidfVectorizer(min_df=3,  max_features=None, \n",
        "            strip_accents='unicode', analyzer='word',token_pattern=r'\\w{1,}',\n",
        "            ngram_range=(1, 3), use_idf=1,smooth_idf=1,sublinear_tf=1,\n",
        "            stop_words = 'english')\n",
        "\n",
        "x_tr = v.fit_transform(res_train['verification_status'])\n",
        "x_te = v.transform(res_test['verification_status'])\n",
        "\n",
        "print(x_tr.shape , x_te.shape)\n",
        "\n",
        "df_tr = pd.DataFrame(x_tr.toarray(), columns=v.get_feature_names())\n",
        "df_te = pd.DataFrame(x_te.toarray(), columns=v.get_feature_names())\n",
        "\n",
        "res_train = pd.concat([res_train, df_tr], axis=1)\n",
        "res_test = pd.concat([res_test, df_te], axis=1)\n",
        "\n",
        "\n",
        "res_train.drop('verification_status',axis=1,inplace=True)\n",
        "res_test.drop('verification_status',axis=1,inplace=True)\n",
        "\n",
        "print(res_train.shape , res_test.shape)\n"
      ],
      "execution_count": 41,
      "outputs": [
        {
          "output_type": "stream",
          "text": [
            "(532428, 3) (354951, 3)\n",
            "(532428, 57) (354951, 57)\n"
          ],
          "name": "stdout"
        }
      ]
    },
    {
      "cell_type": "markdown",
      "metadata": {
        "id": "OAknylmUNlVh",
        "colab_type": "text"
      },
      "source": [
        "## Vectorising verification_status_joint"
      ]
    },
    {
      "cell_type": "code",
      "metadata": {
        "id": "rBDXUoAiNlgo",
        "colab_type": "code",
        "colab": {
          "base_uri": "https://localhost:8080/",
          "height": 51
        },
        "outputId": "ba55e45e-272b-4972-d248-d396c17a9fcd"
      },
      "source": [
        "from sklearn.feature_extraction.text import TfidfVectorizer\n",
        "\n",
        "v = TfidfVectorizer(min_df=3,  max_features=None, \n",
        "            strip_accents='unicode', analyzer='word',token_pattern=r'\\w{1,}',\n",
        "            ngram_range=(1, 3), use_idf=1,smooth_idf=1,sublinear_tf=1,\n",
        "            stop_words = 'english')\n",
        "\n",
        "x_tr = v.fit_transform(res_train['verification_status_joint'])\n",
        "x_te = v.transform(res_test['verification_status_joint'])\n",
        "\n",
        "print(x_tr.shape , x_te.shape)\n",
        "\n",
        "df_tr = pd.DataFrame(x_tr.toarray(), columns=v.get_feature_names())\n",
        "df_te = pd.DataFrame(x_te.toarray(), columns=v.get_feature_names())\n",
        "\n",
        "res_train = pd.concat([res_train, df_tr], axis=1)\n",
        "res_test = pd.concat([res_test, df_te], axis=1)\n",
        "\n",
        "\n",
        "res_train.drop('verification_status_joint',axis=1,inplace=True)\n",
        "res_test.drop('verification_status_joint',axis=1,inplace=True)\n",
        "\n",
        "print(res_train.shape , res_test.shape)\n"
      ],
      "execution_count": 42,
      "outputs": [
        {
          "output_type": "stream",
          "text": [
            "(532428, 4) (354951, 4)\n",
            "(532428, 60) (354951, 60)\n"
          ],
          "name": "stdout"
        }
      ]
    },
    {
      "cell_type": "markdown",
      "metadata": {
        "id": "ruM09E2BJM9E",
        "colab_type": "text"
      },
      "source": [
        "## Vectorise pymnt_plan"
      ]
    },
    {
      "cell_type": "code",
      "metadata": {
        "id": "uinHbPO7JGBd",
        "colab_type": "code",
        "colab": {
          "base_uri": "https://localhost:8080/",
          "height": 51
        },
        "outputId": "5905d54e-bc03-4196-d7b1-7f7877541dfe"
      },
      "source": [
        "from sklearn.feature_extraction.text import TfidfVectorizer\n",
        "\n",
        "v = TfidfVectorizer(min_df=3,  max_features=None, \n",
        "            strip_accents='unicode', analyzer='word',token_pattern=r'\\w{1,}',\n",
        "            ngram_range=(1, 3), use_idf=1,smooth_idf=1,sublinear_tf=1,\n",
        "            stop_words = 'english')\n",
        "\n",
        "x_tr = v.fit_transform(res_train['pymnt_plan'])\n",
        "x_te = v.transform(res_test['pymnt_plan'])\n",
        "\n",
        "print(x_tr.shape , x_te.shape)\n",
        "\n",
        "df_tr = pd.DataFrame(x_tr.toarray(), columns=v.get_feature_names())\n",
        "df_te = pd.DataFrame(x_te.toarray(), columns=v.get_feature_names())\n",
        "\n",
        "res_train = pd.concat([res_train, df_tr], axis=1)\n",
        "res_test = pd.concat([res_test, df_te], axis=1)\n",
        "\n",
        "\n",
        "res_train.drop('pymnt_plan',axis=1,inplace=True)\n",
        "res_test.drop('pymnt_plan',axis=1,inplace=True)\n",
        "\n",
        "print(res_train.shape , res_test.shape)\n"
      ],
      "execution_count": 43,
      "outputs": [
        {
          "output_type": "stream",
          "text": [
            "(532428, 2) (354951, 2)\n",
            "(532428, 61) (354951, 61)\n"
          ],
          "name": "stdout"
        }
      ]
    },
    {
      "cell_type": "markdown",
      "metadata": {
        "id": "_r23TxiiKUit",
        "colab_type": "text"
      },
      "source": [
        "## Vectorising title"
      ]
    },
    {
      "cell_type": "code",
      "metadata": {
        "id": "WVe2u6jMJnur",
        "colab_type": "code",
        "colab": {}
      },
      "source": [
        "# preprocessed_grade_tr = []\n",
        "# for i in res_train['title']:\n",
        "#   preprocessed_grade_tr.append(i.replace(' ','_'))\n",
        "\n",
        "# preprocessed_grade_te = []\n",
        "# for i in res_test['title']:\n",
        "#   preprocessed_grade_te.append(i.replace(' ','_'))\n",
        "\n",
        "\n",
        "# res_train['clean_title'] = preprocessed_grade_tr\n",
        "# res_train.drop(['title'], axis=1)\n",
        "\n",
        "# res_test['clean_title'] = preprocessed_grade_te\n",
        "# res_test.drop(['title'], axis=1)"
      ],
      "execution_count": 44,
      "outputs": []
    },
    {
      "cell_type": "code",
      "metadata": {
        "id": "vvXdERmrJntE",
        "colab_type": "code",
        "colab": {}
      },
      "source": [
        "# from sklearn.feature_extraction.text import TfidfVectorizer\n",
        "\n",
        "# v = TfidfVectorizer(min_df=3,  max_features=100, \n",
        "#             strip_accents='unicode', analyzer='word',token_pattern=r'\\w{1,}',\n",
        "#             ngram_range=(1, 3), use_idf=1,smooth_idf=1,sublinear_tf=1,\n",
        "#             stop_words = 'english')\n",
        "\n",
        "# x_tr = v.fit_transform(res_train['clean_title'])\n",
        "# x_te = v.transform(res_test['clean_title'])\n",
        "\n",
        "# print(x_tr.shape , x_te.shape)\n",
        "\n",
        "# df_tr = pd.DataFrame(x_tr.toarray(), columns=v.get_feature_names())\n",
        "# df_te = pd.DataFrame(x_te.toarray(), columns=v.get_feature_names())\n",
        "\n",
        "# res_train = pd.concat([res_train, df_tr], axis=1)\n",
        "# res_test = pd.concat([res_test, df_te], axis=1)\n",
        "\n",
        "\n",
        "# res_train.drop('clean_title',axis=1,inplace=True)\n",
        "# res_test.drop('clean_title',axis=1,inplace=True)\n",
        "\n",
        "# print(res_train.shape , res_test.shape)\n"
      ],
      "execution_count": 45,
      "outputs": []
    },
    {
      "cell_type": "code",
      "metadata": {
        "id": "vx9MdOTKPlc7",
        "colab_type": "code",
        "colab": {}
      },
      "source": [
        "# res_train.drop('title',axis=1,inplace=True)\n",
        "# res_test.drop('title',axis=1,inplace=True)\n"
      ],
      "execution_count": 46,
      "outputs": []
    },
    {
      "cell_type": "markdown",
      "metadata": {
        "id": "cDR6kHWrLHMO",
        "colab_type": "text"
      },
      "source": [
        "## Vectorising addr_state"
      ]
    },
    {
      "cell_type": "code",
      "metadata": {
        "id": "72IhmpFAJQQK",
        "colab_type": "code",
        "colab": {
          "base_uri": "https://localhost:8080/",
          "height": 51
        },
        "outputId": "152e6b8e-8173-4a57-d98e-ae5bc9b0b6ce"
      },
      "source": [
        "from sklearn.feature_extraction.text import TfidfVectorizer\n",
        "\n",
        "v = TfidfVectorizer(min_df=3,  max_features=None, \n",
        "            strip_accents='unicode', analyzer='word',token_pattern=r'\\w{1,}',\n",
        "            ngram_range=(1, 3), use_idf=1,smooth_idf=1,sublinear_tf=1,\n",
        "            stop_words = 'english')\n",
        "\n",
        "x_tr = v.fit_transform(res_train['addr_state'])\n",
        "x_te = v.transform(res_test['addr_state'])\n",
        "\n",
        "print(x_tr.shape , x_te.shape)\n",
        "\n",
        "df_tr = pd.DataFrame(x_tr.toarray(), columns=v.get_feature_names())\n",
        "df_te = pd.DataFrame(x_te.toarray(), columns=v.get_feature_names())\n",
        "\n",
        "res_train = pd.concat([res_train, df_tr], axis=1)\n",
        "res_test = pd.concat([res_test, df_te], axis=1)\n",
        "\n",
        "\n",
        "res_train.drop('addr_state',axis=1,inplace=True)\n",
        "res_test.drop('addr_state',axis=1,inplace=True)\n",
        "\n",
        "print(res_train.shape , res_test.shape)\n"
      ],
      "execution_count": 47,
      "outputs": [
        {
          "output_type": "stream",
          "text": [
            "(532428, 46) (354951, 46)\n",
            "(532428, 106) (354951, 106)\n"
          ],
          "name": "stdout"
        }
      ]
    },
    {
      "cell_type": "markdown",
      "metadata": {
        "id": "206yMRsZL5bl",
        "colab_type": "text"
      },
      "source": [
        "## Vectorising initial_list_status"
      ]
    },
    {
      "cell_type": "code",
      "metadata": {
        "id": "dsnBxoeIJQan",
        "colab_type": "code",
        "colab": {
          "base_uri": "https://localhost:8080/",
          "height": 51
        },
        "outputId": "f1dba3ba-33a3-49b8-c841-9e82b2d20197"
      },
      "source": [
        "from sklearn.feature_extraction.text import TfidfVectorizer\n",
        "\n",
        "v = TfidfVectorizer(min_df=3,  max_features=None, \n",
        "            strip_accents='unicode', analyzer='word',token_pattern=r'\\w{1,}',\n",
        "            ngram_range=(1, 3), use_idf=1,smooth_idf=1,sublinear_tf=1,\n",
        "            stop_words = 'english')\n",
        "\n",
        "x_tr = v.fit_transform(res_train['initial_list_status'])\n",
        "x_te = v.transform(res_test['initial_list_status'])\n",
        "\n",
        "print(x_tr.shape , x_te.shape)\n",
        "\n",
        "df_tr = pd.DataFrame(x_tr.toarray(), columns=v.get_feature_names())\n",
        "df_te = pd.DataFrame(x_te.toarray(), columns=v.get_feature_names())\n",
        "\n",
        "res_train = pd.concat([res_train, df_tr], axis=1)\n",
        "res_test = pd.concat([res_test, df_te], axis=1)\n",
        "\n",
        "\n",
        "res_train.drop('initial_list_status',axis=1,inplace=True)\n",
        "res_test.drop('initial_list_status',axis=1,inplace=True)\n",
        "\n",
        "print(res_train.shape , res_test.shape)\n"
      ],
      "execution_count": 48,
      "outputs": [
        {
          "output_type": "stream",
          "text": [
            "(532428, 2) (354951, 2)\n",
            "(532428, 107) (354951, 107)\n"
          ],
          "name": "stdout"
        }
      ]
    },
    {
      "cell_type": "markdown",
      "metadata": {
        "id": "1bgK8oh7L82L",
        "colab_type": "text"
      },
      "source": [
        "## Vectorising application_type"
      ]
    },
    {
      "cell_type": "code",
      "metadata": {
        "id": "2pqfk11ELq8t",
        "colab_type": "code",
        "colab": {
          "base_uri": "https://localhost:8080/",
          "height": 51
        },
        "outputId": "89b0bb69-07c3-4b43-9e80-709f8e939092"
      },
      "source": [
        "from sklearn.feature_extraction.text import TfidfVectorizer\n",
        "\n",
        "v = TfidfVectorizer(min_df=3,  max_features=None, \n",
        "            strip_accents='unicode', analyzer='word',token_pattern=r'\\w{1,}',\n",
        "            ngram_range=(1, 3), use_idf=1,smooth_idf=1,sublinear_tf=1,\n",
        "            stop_words = 'english')\n",
        "\n",
        "x_tr = v.fit_transform(res_train['application_type'])\n",
        "x_te = v.transform(res_test['application_type'])\n",
        "\n",
        "print(x_tr.shape , x_te.shape)\n",
        "\n",
        "df_tr = pd.DataFrame(x_tr.toarray(), columns=v.get_feature_names())\n",
        "df_te = pd.DataFrame(x_te.toarray(), columns=v.get_feature_names())\n",
        "\n",
        "res_train = pd.concat([res_train, df_tr], axis=1)\n",
        "res_test = pd.concat([res_test, df_te], axis=1)\n",
        "\n",
        "\n",
        "res_train.drop('application_type',axis=1,inplace=True)\n",
        "res_test.drop('application_type',axis=1,inplace=True)\n",
        "\n",
        "print(res_train.shape , res_test.shape)\n"
      ],
      "execution_count": 49,
      "outputs": [
        {
          "output_type": "stream",
          "text": [
            "(532428, 2) (354951, 2)\n",
            "(532428, 108) (354951, 108)\n"
          ],
          "name": "stdout"
        }
      ]
    },
    {
      "cell_type": "code",
      "metadata": {
        "id": "k1CfsICy_Tas",
        "colab_type": "code",
        "colab": {}
      },
      "source": [
        "res_train.drop(['desc','zip_code','emp_title','title','batch_enrolled'], axis=1, inplace=True)\n",
        "res_test.drop(['desc','zip_code','emp_title','title','batch_enrolled'], axis=1, inplace=True)"
      ],
      "execution_count": 50,
      "outputs": []
    },
    {
      "cell_type": "code",
      "metadata": {
        "id": "JilPz1-v_TYs",
        "colab_type": "code",
        "colab": {
          "base_uri": "https://localhost:8080/",
          "height": 253
        },
        "outputId": "12342199-0ebd-49b5-ac16-5dcb113fb6af"
      },
      "source": [
        "res_train.tail()"
      ],
      "execution_count": 51,
      "outputs": [
        {
          "output_type": "execute_result",
          "data": {
            "text/html": [
              "<div>\n",
              "<style scoped>\n",
              "    .dataframe tbody tr th:only-of-type {\n",
              "        vertical-align: middle;\n",
              "    }\n",
              "\n",
              "    .dataframe tbody tr th {\n",
              "        vertical-align: top;\n",
              "    }\n",
              "\n",
              "    .dataframe thead th {\n",
              "        text-align: right;\n",
              "    }\n",
              "</style>\n",
              "<table border=\"1\" class=\"dataframe\">\n",
              "  <thead>\n",
              "    <tr style=\"text-align: right;\">\n",
              "      <th></th>\n",
              "      <th>index</th>\n",
              "      <th>member_id</th>\n",
              "      <th>loan_amnt</th>\n",
              "      <th>funded_amnt</th>\n",
              "      <th>funded_amnt_inv</th>\n",
              "      <th>term</th>\n",
              "      <th>int_rate</th>\n",
              "      <th>sub_grade</th>\n",
              "      <th>emp_length</th>\n",
              "      <th>home_ownership</th>\n",
              "      <th>annual_inc</th>\n",
              "      <th>purpose</th>\n",
              "      <th>dti</th>\n",
              "      <th>delinq_2yrs</th>\n",
              "      <th>inq_last_6mths</th>\n",
              "      <th>mths_since_last_delinq</th>\n",
              "      <th>mths_since_last_record</th>\n",
              "      <th>open_acc</th>\n",
              "      <th>pub_rec</th>\n",
              "      <th>revol_bal</th>\n",
              "      <th>revol_util</th>\n",
              "      <th>total_acc</th>\n",
              "      <th>total_rec_int</th>\n",
              "      <th>total_rec_late_fee</th>\n",
              "      <th>recoveries</th>\n",
              "      <th>collection_recovery_fee</th>\n",
              "      <th>collections_12_mths_ex_med</th>\n",
              "      <th>mths_since_last_major_derog</th>\n",
              "      <th>last_week_pay</th>\n",
              "      <th>acc_now_delinq</th>\n",
              "      <th>tot_coll_amt</th>\n",
              "      <th>tot_cur_bal</th>\n",
              "      <th>total_rev_hi_lim</th>\n",
              "      <th>income_to_loan</th>\n",
              "      <th>income_to_loan_inv</th>\n",
              "      <th>total_int_paid</th>\n",
              "      <th>emi_per_month</th>\n",
              "      <th>emi_paid_perc</th>\n",
              "      <th>b</th>\n",
              "      <th>c</th>\n",
              "      <th>...</th>\n",
              "      <th>ia</th>\n",
              "      <th>id</th>\n",
              "      <th>il</th>\n",
              "      <th>ks</th>\n",
              "      <th>ky</th>\n",
              "      <th>la</th>\n",
              "      <th>ma</th>\n",
              "      <th>md</th>\n",
              "      <th>mi</th>\n",
              "      <th>mn</th>\n",
              "      <th>mo</th>\n",
              "      <th>ms</th>\n",
              "      <th>mt</th>\n",
              "      <th>nc</th>\n",
              "      <th>nd</th>\n",
              "      <th>ne</th>\n",
              "      <th>nh</th>\n",
              "      <th>nj</th>\n",
              "      <th>nm</th>\n",
              "      <th>nv</th>\n",
              "      <th>ny</th>\n",
              "      <th>oh</th>\n",
              "      <th>ok</th>\n",
              "      <th>pa</th>\n",
              "      <th>ri</th>\n",
              "      <th>sc</th>\n",
              "      <th>sd</th>\n",
              "      <th>tn</th>\n",
              "      <th>tx</th>\n",
              "      <th>ut</th>\n",
              "      <th>va</th>\n",
              "      <th>vt</th>\n",
              "      <th>wa</th>\n",
              "      <th>wi</th>\n",
              "      <th>wv</th>\n",
              "      <th>wy</th>\n",
              "      <th>f</th>\n",
              "      <th>w</th>\n",
              "      <th>individual</th>\n",
              "      <th>joint</th>\n",
              "    </tr>\n",
              "  </thead>\n",
              "  <tbody>\n",
              "    <tr>\n",
              "      <th>532423</th>\n",
              "      <td>532423</td>\n",
              "      <td>31296187</td>\n",
              "      <td>20000</td>\n",
              "      <td>20000</td>\n",
              "      <td>20000.0</td>\n",
              "      <td>36</td>\n",
              "      <td>12.49</td>\n",
              "      <td>15</td>\n",
              "      <td>10.0</td>\n",
              "      <td>31296187</td>\n",
              "      <td>75000.0</td>\n",
              "      <td>31296187</td>\n",
              "      <td>14.53</td>\n",
              "      <td>0.0</td>\n",
              "      <td>0.0</td>\n",
              "      <td>31.0</td>\n",
              "      <td>51.0</td>\n",
              "      <td>12.0</td>\n",
              "      <td>1.0</td>\n",
              "      <td>15775.0</td>\n",
              "      <td>63.6</td>\n",
              "      <td>34.0</td>\n",
              "      <td>2595.45</td>\n",
              "      <td>0.0</td>\n",
              "      <td>0.0</td>\n",
              "      <td>0.0</td>\n",
              "      <td>0.0</td>\n",
              "      <td>44.0</td>\n",
              "      <td>65.0</td>\n",
              "      <td>0.0</td>\n",
              "      <td>0.0</td>\n",
              "      <td>83087.0</td>\n",
              "      <td>24800.0</td>\n",
              "      <td>3.75</td>\n",
              "      <td>3.75</td>\n",
              "      <td>2595.45</td>\n",
              "      <td>668.98</td>\n",
              "      <td>41.40</td>\n",
              "      <td>1.0</td>\n",
              "      <td>0.0</td>\n",
              "      <td>...</td>\n",
              "      <td>0.0</td>\n",
              "      <td>0.0</td>\n",
              "      <td>0.0</td>\n",
              "      <td>0.0</td>\n",
              "      <td>0.0</td>\n",
              "      <td>0.0</td>\n",
              "      <td>0.0</td>\n",
              "      <td>0.0</td>\n",
              "      <td>1.0</td>\n",
              "      <td>0.0</td>\n",
              "      <td>0.0</td>\n",
              "      <td>0.0</td>\n",
              "      <td>0.0</td>\n",
              "      <td>0.0</td>\n",
              "      <td>0.0</td>\n",
              "      <td>0.0</td>\n",
              "      <td>0.0</td>\n",
              "      <td>0.0</td>\n",
              "      <td>0.0</td>\n",
              "      <td>0.0</td>\n",
              "      <td>0.0</td>\n",
              "      <td>0.0</td>\n",
              "      <td>0.0</td>\n",
              "      <td>0.0</td>\n",
              "      <td>0.0</td>\n",
              "      <td>0.0</td>\n",
              "      <td>0.0</td>\n",
              "      <td>0.0</td>\n",
              "      <td>0.0</td>\n",
              "      <td>0.0</td>\n",
              "      <td>0.0</td>\n",
              "      <td>0.0</td>\n",
              "      <td>0.0</td>\n",
              "      <td>0.0</td>\n",
              "      <td>0.0</td>\n",
              "      <td>0.0</td>\n",
              "      <td>1.0</td>\n",
              "      <td>0.0</td>\n",
              "      <td>1.0</td>\n",
              "      <td>0.0</td>\n",
              "    </tr>\n",
              "    <tr>\n",
              "      <th>532424</th>\n",
              "      <td>532424</td>\n",
              "      <td>29403184</td>\n",
              "      <td>12000</td>\n",
              "      <td>12000</td>\n",
              "      <td>12000.0</td>\n",
              "      <td>60</td>\n",
              "      <td>14.99</td>\n",
              "      <td>25</td>\n",
              "      <td>10.0</td>\n",
              "      <td>29403184</td>\n",
              "      <td>59000.0</td>\n",
              "      <td>29403184</td>\n",
              "      <td>22.97</td>\n",
              "      <td>0.0</td>\n",
              "      <td>0.0</td>\n",
              "      <td>31.0</td>\n",
              "      <td>81.0</td>\n",
              "      <td>10.0</td>\n",
              "      <td>1.0</td>\n",
              "      <td>9453.0</td>\n",
              "      <td>53.1</td>\n",
              "      <td>29.0</td>\n",
              "      <td>2182.92</td>\n",
              "      <td>0.0</td>\n",
              "      <td>0.0</td>\n",
              "      <td>0.0</td>\n",
              "      <td>0.0</td>\n",
              "      <td>44.0</td>\n",
              "      <td>70.0</td>\n",
              "      <td>0.0</td>\n",
              "      <td>0.0</td>\n",
              "      <td>227812.0</td>\n",
              "      <td>17800.0</td>\n",
              "      <td>4.92</td>\n",
              "      <td>4.92</td>\n",
              "      <td>2182.92</td>\n",
              "      <td>285.42</td>\n",
              "      <td>26.82</td>\n",
              "      <td>0.0</td>\n",
              "      <td>1.0</td>\n",
              "      <td>...</td>\n",
              "      <td>0.0</td>\n",
              "      <td>0.0</td>\n",
              "      <td>0.0</td>\n",
              "      <td>0.0</td>\n",
              "      <td>0.0</td>\n",
              "      <td>0.0</td>\n",
              "      <td>0.0</td>\n",
              "      <td>0.0</td>\n",
              "      <td>1.0</td>\n",
              "      <td>0.0</td>\n",
              "      <td>0.0</td>\n",
              "      <td>0.0</td>\n",
              "      <td>0.0</td>\n",
              "      <td>0.0</td>\n",
              "      <td>0.0</td>\n",
              "      <td>0.0</td>\n",
              "      <td>0.0</td>\n",
              "      <td>0.0</td>\n",
              "      <td>0.0</td>\n",
              "      <td>0.0</td>\n",
              "      <td>0.0</td>\n",
              "      <td>0.0</td>\n",
              "      <td>0.0</td>\n",
              "      <td>0.0</td>\n",
              "      <td>0.0</td>\n",
              "      <td>0.0</td>\n",
              "      <td>0.0</td>\n",
              "      <td>0.0</td>\n",
              "      <td>0.0</td>\n",
              "      <td>0.0</td>\n",
              "      <td>0.0</td>\n",
              "      <td>0.0</td>\n",
              "      <td>0.0</td>\n",
              "      <td>0.0</td>\n",
              "      <td>0.0</td>\n",
              "      <td>0.0</td>\n",
              "      <td>0.0</td>\n",
              "      <td>1.0</td>\n",
              "      <td>1.0</td>\n",
              "      <td>0.0</td>\n",
              "    </tr>\n",
              "    <tr>\n",
              "      <th>532425</th>\n",
              "      <td>532425</td>\n",
              "      <td>7357607</td>\n",
              "      <td>18725</td>\n",
              "      <td>18725</td>\n",
              "      <td>18725.0</td>\n",
              "      <td>60</td>\n",
              "      <td>20.80</td>\n",
              "      <td>41</td>\n",
              "      <td>8.0</td>\n",
              "      <td>7357607</td>\n",
              "      <td>42504.0</td>\n",
              "      <td>7357607</td>\n",
              "      <td>27.27</td>\n",
              "      <td>0.0</td>\n",
              "      <td>1.0</td>\n",
              "      <td>26.0</td>\n",
              "      <td>70.0</td>\n",
              "      <td>14.0</td>\n",
              "      <td>0.0</td>\n",
              "      <td>12085.0</td>\n",
              "      <td>49.9</td>\n",
              "      <td>26.0</td>\n",
              "      <td>645.32</td>\n",
              "      <td>0.0</td>\n",
              "      <td>0.0</td>\n",
              "      <td>0.0</td>\n",
              "      <td>0.0</td>\n",
              "      <td>44.0</td>\n",
              "      <td>9.0</td>\n",
              "      <td>0.0</td>\n",
              "      <td>0.0</td>\n",
              "      <td>26010.0</td>\n",
              "      <td>24200.0</td>\n",
              "      <td>2.27</td>\n",
              "      <td>2.27</td>\n",
              "      <td>645.32</td>\n",
              "      <td>504.47</td>\n",
              "      <td>3.45</td>\n",
              "      <td>0.0</td>\n",
              "      <td>0.0</td>\n",
              "      <td>...</td>\n",
              "      <td>0.0</td>\n",
              "      <td>0.0</td>\n",
              "      <td>0.0</td>\n",
              "      <td>0.0</td>\n",
              "      <td>0.0</td>\n",
              "      <td>0.0</td>\n",
              "      <td>0.0</td>\n",
              "      <td>0.0</td>\n",
              "      <td>0.0</td>\n",
              "      <td>0.0</td>\n",
              "      <td>0.0</td>\n",
              "      <td>0.0</td>\n",
              "      <td>0.0</td>\n",
              "      <td>0.0</td>\n",
              "      <td>0.0</td>\n",
              "      <td>0.0</td>\n",
              "      <td>0.0</td>\n",
              "      <td>0.0</td>\n",
              "      <td>0.0</td>\n",
              "      <td>0.0</td>\n",
              "      <td>0.0</td>\n",
              "      <td>0.0</td>\n",
              "      <td>0.0</td>\n",
              "      <td>0.0</td>\n",
              "      <td>0.0</td>\n",
              "      <td>0.0</td>\n",
              "      <td>0.0</td>\n",
              "      <td>1.0</td>\n",
              "      <td>0.0</td>\n",
              "      <td>0.0</td>\n",
              "      <td>0.0</td>\n",
              "      <td>0.0</td>\n",
              "      <td>0.0</td>\n",
              "      <td>0.0</td>\n",
              "      <td>0.0</td>\n",
              "      <td>0.0</td>\n",
              "      <td>1.0</td>\n",
              "      <td>0.0</td>\n",
              "      <td>1.0</td>\n",
              "      <td>0.0</td>\n",
              "    </tr>\n",
              "    <tr>\n",
              "      <th>532426</th>\n",
              "      <td>532426</td>\n",
              "      <td>23182668</td>\n",
              "      <td>21000</td>\n",
              "      <td>21000</td>\n",
              "      <td>21000.0</td>\n",
              "      <td>60</td>\n",
              "      <td>16.29</td>\n",
              "      <td>32</td>\n",
              "      <td>1.0</td>\n",
              "      <td>23182668</td>\n",
              "      <td>50000.0</td>\n",
              "      <td>23182668</td>\n",
              "      <td>14.91</td>\n",
              "      <td>0.0</td>\n",
              "      <td>1.0</td>\n",
              "      <td>31.0</td>\n",
              "      <td>70.0</td>\n",
              "      <td>7.0</td>\n",
              "      <td>0.0</td>\n",
              "      <td>20902.0</td>\n",
              "      <td>89.7</td>\n",
              "      <td>14.0</td>\n",
              "      <td>4619.79</td>\n",
              "      <td>0.0</td>\n",
              "      <td>0.0</td>\n",
              "      <td>0.0</td>\n",
              "      <td>0.0</td>\n",
              "      <td>44.0</td>\n",
              "      <td>78.0</td>\n",
              "      <td>0.0</td>\n",
              "      <td>0.0</td>\n",
              "      <td>29197.0</td>\n",
              "      <td>23300.0</td>\n",
              "      <td>2.38</td>\n",
              "      <td>2.38</td>\n",
              "      <td>4619.79</td>\n",
              "      <td>513.92</td>\n",
              "      <td>29.89</td>\n",
              "      <td>0.0</td>\n",
              "      <td>0.0</td>\n",
              "      <td>...</td>\n",
              "      <td>0.0</td>\n",
              "      <td>0.0</td>\n",
              "      <td>0.0</td>\n",
              "      <td>0.0</td>\n",
              "      <td>0.0</td>\n",
              "      <td>0.0</td>\n",
              "      <td>0.0</td>\n",
              "      <td>0.0</td>\n",
              "      <td>0.0</td>\n",
              "      <td>0.0</td>\n",
              "      <td>0.0</td>\n",
              "      <td>0.0</td>\n",
              "      <td>0.0</td>\n",
              "      <td>0.0</td>\n",
              "      <td>0.0</td>\n",
              "      <td>0.0</td>\n",
              "      <td>0.0</td>\n",
              "      <td>0.0</td>\n",
              "      <td>0.0</td>\n",
              "      <td>0.0</td>\n",
              "      <td>0.0</td>\n",
              "      <td>1.0</td>\n",
              "      <td>0.0</td>\n",
              "      <td>0.0</td>\n",
              "      <td>0.0</td>\n",
              "      <td>0.0</td>\n",
              "      <td>0.0</td>\n",
              "      <td>0.0</td>\n",
              "      <td>0.0</td>\n",
              "      <td>0.0</td>\n",
              "      <td>0.0</td>\n",
              "      <td>0.0</td>\n",
              "      <td>0.0</td>\n",
              "      <td>0.0</td>\n",
              "      <td>0.0</td>\n",
              "      <td>0.0</td>\n",
              "      <td>0.0</td>\n",
              "      <td>1.0</td>\n",
              "      <td>1.0</td>\n",
              "      <td>0.0</td>\n",
              "    </tr>\n",
              "    <tr>\n",
              "      <th>532427</th>\n",
              "      <td>532427</td>\n",
              "      <td>46122259</td>\n",
              "      <td>10000</td>\n",
              "      <td>10000</td>\n",
              "      <td>10000.0</td>\n",
              "      <td>36</td>\n",
              "      <td>6.39</td>\n",
              "      <td>2</td>\n",
              "      <td>0.0</td>\n",
              "      <td>46122259</td>\n",
              "      <td>53000.0</td>\n",
              "      <td>46122259</td>\n",
              "      <td>17.80</td>\n",
              "      <td>0.0</td>\n",
              "      <td>0.0</td>\n",
              "      <td>31.0</td>\n",
              "      <td>70.0</td>\n",
              "      <td>11.0</td>\n",
              "      <td>0.0</td>\n",
              "      <td>10058.0</td>\n",
              "      <td>46.4</td>\n",
              "      <td>20.0</td>\n",
              "      <td>467.52</td>\n",
              "      <td>0.0</td>\n",
              "      <td>0.0</td>\n",
              "      <td>0.0</td>\n",
              "      <td>0.0</td>\n",
              "      <td>44.0</td>\n",
              "      <td>44.0</td>\n",
              "      <td>0.0</td>\n",
              "      <td>0.0</td>\n",
              "      <td>47866.0</td>\n",
              "      <td>21700.0</td>\n",
              "      <td>5.30</td>\n",
              "      <td>5.30</td>\n",
              "      <td>467.52</td>\n",
              "      <td>305.99</td>\n",
              "      <td>28.03</td>\n",
              "      <td>0.0</td>\n",
              "      <td>0.0</td>\n",
              "      <td>...</td>\n",
              "      <td>0.0</td>\n",
              "      <td>0.0</td>\n",
              "      <td>0.0</td>\n",
              "      <td>0.0</td>\n",
              "      <td>0.0</td>\n",
              "      <td>0.0</td>\n",
              "      <td>0.0</td>\n",
              "      <td>0.0</td>\n",
              "      <td>0.0</td>\n",
              "      <td>0.0</td>\n",
              "      <td>0.0</td>\n",
              "      <td>0.0</td>\n",
              "      <td>0.0</td>\n",
              "      <td>0.0</td>\n",
              "      <td>0.0</td>\n",
              "      <td>0.0</td>\n",
              "      <td>0.0</td>\n",
              "      <td>0.0</td>\n",
              "      <td>0.0</td>\n",
              "      <td>0.0</td>\n",
              "      <td>0.0</td>\n",
              "      <td>0.0</td>\n",
              "      <td>0.0</td>\n",
              "      <td>0.0</td>\n",
              "      <td>0.0</td>\n",
              "      <td>0.0</td>\n",
              "      <td>0.0</td>\n",
              "      <td>0.0</td>\n",
              "      <td>0.0</td>\n",
              "      <td>0.0</td>\n",
              "      <td>0.0</td>\n",
              "      <td>0.0</td>\n",
              "      <td>0.0</td>\n",
              "      <td>0.0</td>\n",
              "      <td>0.0</td>\n",
              "      <td>0.0</td>\n",
              "      <td>1.0</td>\n",
              "      <td>0.0</td>\n",
              "      <td>1.0</td>\n",
              "      <td>0.0</td>\n",
              "    </tr>\n",
              "  </tbody>\n",
              "</table>\n",
              "<p>5 rows × 103 columns</p>\n",
              "</div>"
            ],
            "text/plain": [
              "         index  member_id  loan_amnt  funded_amnt  ...    f    w  individual  joint\n",
              "532423  532423   31296187      20000        20000  ...  1.0  0.0         1.0    0.0\n",
              "532424  532424   29403184      12000        12000  ...  0.0  1.0         1.0    0.0\n",
              "532425  532425    7357607      18725        18725  ...  1.0  0.0         1.0    0.0\n",
              "532426  532426   23182668      21000        21000  ...  0.0  1.0         1.0    0.0\n",
              "532427  532427   46122259      10000        10000  ...  1.0  0.0         1.0    0.0\n",
              "\n",
              "[5 rows x 103 columns]"
            ]
          },
          "metadata": {
            "tags": []
          },
          "execution_count": 51
        }
      ]
    },
    {
      "cell_type": "code",
      "metadata": {
        "id": "kee-z-a7xMVe",
        "colab_type": "code",
        "colab": {}
      },
      "source": [
        "def scaler():\n",
        "    result = res_train.copy()\n",
        "    for feature_name in res_train.columns:\n",
        "        max_value = res_train[feature_name].max()\n",
        "        min_value = res_train[feature_name].min()\n",
        "        result[feature_name] = (res_train[feature_name] - min_value) / (max_value - min_value)\n",
        "    return result"
      ],
      "execution_count": 52,
      "outputs": []
    },
    {
      "cell_type": "code",
      "metadata": {
        "id": "tFU4dAym7DcW",
        "colab_type": "code",
        "colab": {}
      },
      "source": [
        "def scaler_te():\n",
        "    result = res_test.copy()\n",
        "    for feature_name in res_test.columns:\n",
        "        max_value = res_test[feature_name].max()\n",
        "        min_value = res_test[feature_name].min()\n",
        "        result[feature_name] = (res_test[feature_name] - min_value) / (max_value - min_value)\n",
        "    return result"
      ],
      "execution_count": 53,
      "outputs": []
    },
    {
      "cell_type": "code",
      "metadata": {
        "id": "RdKXxnH15ARy",
        "colab_type": "code",
        "colab": {}
      },
      "source": [
        "res_train_enc= scaler()"
      ],
      "execution_count": 54,
      "outputs": []
    },
    {
      "cell_type": "code",
      "metadata": {
        "id": "uWUfP2UD6eb4",
        "colab_type": "code",
        "colab": {}
      },
      "source": [
        "res_test_enc= scaler_te()"
      ],
      "execution_count": 55,
      "outputs": []
    },
    {
      "cell_type": "markdown",
      "metadata": {
        "id": "6tX8Bcb018yX",
        "colab_type": "text"
      },
      "source": [
        "## Train-Test Split"
      ]
    },
    {
      "cell_type": "code",
      "metadata": {
        "id": "g6J5wt1vvaY2",
        "colab_type": "code",
        "colab": {}
      },
      "source": [
        "\n",
        "from sklearn.model_selection import train_test_split\n",
        "\n",
        "# Split train and cross validation sets\n",
        "X_train, X_test, y_train, y_test = train_test_split(np.array(res_train_enc), np.array(train_target), test_size=0.30)\n",
        "eval_set=[(X_test, y_test)]"
      ],
      "execution_count": 56,
      "outputs": []
    },
    {
      "cell_type": "code",
      "metadata": {
        "id": "F_wh84ImvcGS",
        "colab_type": "code",
        "colab": {
          "base_uri": "https://localhost:8080/",
          "height": 34
        },
        "outputId": "3bfdc8da-bfc3-4062-fcfd-4ee0e5f0413c"
      },
      "source": [
        "X_train.shape, y_train.shape,X_test.shape,  y_test.shape"
      ],
      "execution_count": 57,
      "outputs": [
        {
          "output_type": "execute_result",
          "data": {
            "text/plain": [
              "((372699, 103), (372699, 1), (159729, 103), (159729, 1))"
            ]
          },
          "metadata": {
            "tags": []
          },
          "execution_count": 57
        }
      ]
    },
    {
      "cell_type": "code",
      "metadata": {
        "id": "W3tpUh7Y_ABQ",
        "colab_type": "code",
        "colab": {
          "base_uri": "https://localhost:8080/",
          "height": 306
        },
        "outputId": "863d0323-fa9c-4f94-9ed8-9d4db34f2cca"
      },
      "source": [
        "#CATBoost\n",
        "from sklearn.metrics import roc_auc_score\n",
        "\n",
        "from catboost import CatBoostClassifier\n",
        "cb_clf = CatBoostClassifier(learning_rate=0.1, n_estimators=1000, subsample=0.70, max_depth=5, scale_pos_weight=2.5, silent=True)\n",
        "cb_clf.fit(X_train, y_train)\n",
        "\n",
        "# evaluate predictions\n",
        "y_train_predict_cb = cb_clf.predict(X_train)\n",
        "print('Train Accuracy %.3f' % metrics.accuracy_score(y_train, y_train_predict_cb))\n",
        "\n",
        "# make predictions for test data\n",
        "y_pred_cb = cb_clf.predict(X_test)\n",
        "predictions = [round(value) for value in y_pred_cb]\n",
        "\n",
        "\n",
        "accuracy_per_roc_auc = roc_auc_score(y_test, predictions)\n",
        "print(\"ROC-AUC: %.10f%%\" % (accuracy_per_roc_auc * 100))\n",
        "\n",
        "print('Test Accuracy %.3f' % metrics.accuracy_score(y_test, predictions))\n",
        "print(metrics.confusion_matrix(y_test, predictions))\n",
        "print(metrics.classification_report(y_test, predictions))\n",
        "print('Precision Score %.3f' % metrics.precision_score(y_test, predictions))\n",
        "print('Recall Score %.3f' % metrics.recall_score(y_test, predictions))\n",
        "print('F1 Score %.3f' % metrics.f1_score(y_test, predictions))\n"
      ],
      "execution_count": 126,
      "outputs": [
        {
          "output_type": "stream",
          "text": [
            "Train Accuracy 0.940\n",
            "ROC-AUC: 93.3757372225%\n",
            "Test Accuracy 0.939\n",
            "[[115232   6919]\n",
            " [  2850  34728]]\n",
            "              precision    recall  f1-score   support\n",
            "\n",
            "           0       0.98      0.94      0.96    122151\n",
            "           1       0.83      0.92      0.88     37578\n",
            "\n",
            "    accuracy                           0.94    159729\n",
            "   macro avg       0.90      0.93      0.92    159729\n",
            "weighted avg       0.94      0.94      0.94    159729\n",
            "\n",
            "Precision Score 0.834\n",
            "Recall Score 0.924\n",
            "F1 Score 0.877\n"
          ],
          "name": "stdout"
        }
      ]
    },
    {
      "cell_type": "code",
      "metadata": {
        "id": "r054wF9B_n47",
        "colab_type": "code",
        "colab": {
          "base_uri": "https://localhost:8080/",
          "height": 295
        },
        "outputId": "7e869664-9450-456f-a1eb-a3cb1bb6d43b"
      },
      "source": [
        "y_train_pred = cb_clf.predict(X_train)    \n",
        "y_test_pred = cb_clf.predict(X_test)\n",
        "\n",
        "\n",
        "train_fpr, train_tpr, tr_thresholds = roc_curve(y_train, y_train_pred)\n",
        "test_fpr, test_tpr, te_thresholds = roc_curve(y_test, y_test_pred)\n",
        "\n",
        "plt.plot(train_fpr, train_tpr, label=\"Train AUC =\"+str(auc(train_fpr, train_tpr)))\n",
        "plt.plot(test_fpr, test_tpr, label=\"Test AUC =\"+str(auc(test_fpr, test_tpr)))\n",
        "plt.legend()\n",
        "plt.xlabel(\"True Positive Rate(TPR)\")\n",
        "plt.ylabel(\"False Positive Rate(FPR)\")\n",
        "plt.title(\"ROC-AUC\")\n",
        "plt.grid()\n",
        "plt.show()"
      ],
      "execution_count": 127,
      "outputs": [
        {
          "output_type": "display_data",
          "data": {
            "image/png": "[encoded data removed]",
            "text/plain": [
              "<Figure size 432x288 with 1 Axes>"
            ]
          },
          "metadata": {
            "tags": []
          }
        }
      ]
    },
    {
      "cell_type": "code",
      "metadata": {
        "id": "ZTjdNUkr9_iS",
        "colab_type": "code",
        "colab": {
          "base_uri": "https://localhost:8080/",
          "height": 394
        },
        "outputId": "f5d5010d-20c6-4342-e401-2396a4859e5d"
      },
      "source": [
        "#XGBOOST\n",
        "\n",
        "from xgboost import XGBClassifier\n",
        "\n",
        "xg = XGBClassifier(scale_pos_weight=2.5 ,silent=True)\n",
        "    \n",
        "xg.fit(X_train, y_train)\n",
        "\n",
        "\n",
        "# evaluate predictions\n",
        "y_train_predict_xg = xg.predict(X_train)\n",
        "print('Train Accuracy %.3f' % metrics.accuracy_score(y_train, y_train_predict_xg))\n",
        "\n",
        "# make predictions for test data\n",
        "y_pred_xg = xg.predict(X_test)\n",
        "predictions = [round(value) for value in y_pred_xg]\n",
        "\n",
        "accuracy_per_roc_auc = roc_auc_score(y_test, predictions)\n",
        "print(\"ROC-AUC: %.10f%%\" % (accuracy_per_roc_auc * 100))\n",
        "\n",
        "\n",
        "print('Test Accuracy %.3f' % metrics.accuracy_score(y_test, predictions))\n",
        "print(metrics.confusion_matrix(y_test, predictions))\n",
        "print(metrics.classification_report(y_test, predictions))\n",
        "print('Precision Score %.3f' % metrics.precision_score(y_test, predictions))\n",
        "print('Recall Score %.3f' % metrics.recall_score(y_test, predictions))\n",
        "print('F1 Score %.3f' % metrics.f1_score(y_test, predictions))\n"
      ],
      "execution_count": 128,
      "outputs": [
        {
          "output_type": "stream",
          "text": [
            "/usr/local/lib/python3.6/dist-packages/sklearn/preprocessing/_label.py:235: DataConversionWarning: A column-vector y was passed when a 1d array was expected. Please change the shape of y to (n_samples, ), for example using ravel().\n",
            "  y = column_or_1d(y, warn=True)\n",
            "/usr/local/lib/python3.6/dist-packages/sklearn/preprocessing/_label.py:268: DataConversionWarning: A column-vector y was passed when a 1d array was expected. Please change the shape of y to (n_samples, ), for example using ravel().\n",
            "  y = column_or_1d(y, warn=True)\n"
          ],
          "name": "stderr"
        },
        {
          "output_type": "stream",
          "text": [
            "Train Accuracy 0.927\n",
            "ROC-AUC: 90.1765772290%\n",
            "Test Accuracy 0.928\n",
            "[[116167   5984]\n",
            " [  5542  32036]]\n",
            "              precision    recall  f1-score   support\n",
            "\n",
            "           0       0.95      0.95      0.95    122151\n",
            "           1       0.84      0.85      0.85     37578\n",
            "\n",
            "    accuracy                           0.93    159729\n",
            "   macro avg       0.90      0.90      0.90    159729\n",
            "weighted avg       0.93      0.93      0.93    159729\n",
            "\n",
            "Precision Score 0.843\n",
            "Recall Score 0.853\n",
            "F1 Score 0.848\n"
          ],
          "name": "stdout"
        }
      ]
    },
    {
      "cell_type": "code",
      "metadata": {
        "id": "Ldw111wQ8HOc",
        "colab_type": "code",
        "colab": {
          "base_uri": "https://localhost:8080/",
          "height": 295
        },
        "outputId": "b1686735-2327-4112-af1a-9cfaa3fb2945"
      },
      "source": [
        "y_train_pred = xg.predict(X_train)    \n",
        "y_test_pred = xg.predict(X_test)\n",
        "\n",
        "\n",
        "train_fpr, train_tpr, tr_thresholds = roc_curve(y_train, y_train_pred)\n",
        "test_fpr, test_tpr, te_thresholds = roc_curve(y_test, y_test_pred)\n",
        "\n",
        "plt.plot(train_fpr, train_tpr, label=\"Train AUC =\"+str(auc(train_fpr, train_tpr)))\n",
        "plt.plot(test_fpr, test_tpr, label=\"Test AUC =\"+str(auc(test_fpr, test_tpr)))\n",
        "plt.legend()\n",
        "plt.xlabel(\"True Positive Rate(TPR)\")\n",
        "plt.ylabel(\"False Positive Rate(FPR)\")\n",
        "plt.title(\"ROC-AUC\")\n",
        "plt.grid()\n",
        "plt.show()"
      ],
      "execution_count": 129,
      "outputs": [
        {
          "output_type": "display_data",
          "data": {
            "image/png": "[encoded data removed]",
            "text/plain": [
              "<Figure size 432x288 with 1 Axes>"
            ]
          },
          "metadata": {
            "tags": []
          }
        }
      ]
    },
    {
      "cell_type": "code",
      "metadata": {
        "id": "jQZqi_w5Nmca",
        "colab_type": "code",
        "colab": {
          "base_uri": "https://localhost:8080/",
          "height": 306
        },
        "outputId": "2b5670d5-fd11-4106-9483-47413d5a025b"
      },
      "source": [
        "from sklearn.metrics import roc_auc_score\n",
        "\n",
        "#LGBM\n",
        "from lightgbm import LGBMClassifier\n",
        "\n",
        "\n",
        "lgbm = LGBMClassifier(objective =\"binary\",verbosity = -1, learning_rate=0.1, n_estimators=1000, scale_pos_weight=2.5)\n",
        "    \n",
        "lgbm.fit(X_train, y_train)\n",
        "\n",
        "\n",
        "# evaluate predictions\n",
        "y_train_predict_lgbm = lgbm.predict(X_train)\n",
        "print('Train Accuracy %.3f' % metrics.accuracy_score(y_train, y_train_predict_lgbm))\n",
        "\n",
        "# make predictions for test data\n",
        "y_pred_lgbm = lgbm.predict(X_test)\n",
        "predictions = [round(value) for value in y_pred_lgbm]\n",
        "\n",
        "\n",
        "accuracy_per_roc_auc = roc_auc_score(y_test, predictions)\n",
        "print(\"ROC-AUC: %.10f%%\" % (accuracy_per_roc_auc * 100))\n",
        "\n",
        "\n",
        "print('Test Accuracy %.3f' % metrics.accuracy_score(y_test, predictions))\n",
        "print(metrics.confusion_matrix(y_test, predictions))\n",
        "print(metrics.classification_report(y_test, predictions))\n",
        "print('Precision Score %.3f' % metrics.precision_score(y_test, predictions))\n",
        "print('Recall Score %.3f' % metrics.recall_score(y_test, predictions))\n",
        "print('F1 Score %.3f' % metrics.f1_score(y_test, predictions))"
      ],
      "execution_count": 61,
      "outputs": [
        {
          "output_type": "stream",
          "text": [
            "Train Accuracy 0.951\n",
            "ROC-AUC: 93.2427178211%\n",
            "Test Accuracy 0.938\n",
            "[[115255   6888]\n",
            " [  2960  34626]]\n",
            "              precision    recall  f1-score   support\n",
            "\n",
            "           0       0.97      0.94      0.96    122143\n",
            "           1       0.83      0.92      0.88     37586\n",
            "\n",
            "    accuracy                           0.94    159729\n",
            "   macro avg       0.90      0.93      0.92    159729\n",
            "weighted avg       0.94      0.94      0.94    159729\n",
            "\n",
            "Precision Score 0.834\n",
            "Recall Score 0.921\n",
            "F1 Score 0.875\n"
          ],
          "name": "stdout"
        }
      ]
    },
    {
      "cell_type": "markdown",
      "metadata": {
        "id": "ZUujtHYidCS4",
        "colab_type": "text"
      },
      "source": [
        "## Pickle all the models"
      ]
    },
    {
      "cell_type": "code",
      "metadata": {
        "id": "Qx5VoxnVcC1J",
        "colab_type": "code",
        "colab": {
          "base_uri": "https://localhost:8080/",
          "height": 34
        },
        "outputId": "da808aa1-9df0-4cd2-cd90-ade62fa06956"
      },
      "source": [
        "#from sklearn.externals import joblib \n",
        "# Save the model as a pickle in a file \n",
        "#joblib.dump(xg, 'xgboost.pkl') \n",
        "#joblib.dump(cb_clf, 'catboost.pkl') \n",
        "#joblib.dump(lgbm, 'lgbm.pkl') "
      ],
      "execution_count": 87,
      "outputs": [
        {
          "output_type": "execute_result",
          "data": {
            "text/plain": [
              "['lgbm.pkl']"
            ]
          },
          "metadata": {
            "tags": []
          },
          "execution_count": 87
        }
      ]
    },
    {
      "cell_type": "code",
      "metadata": {
        "id": "7CJ960Rd8HKh",
        "colab_type": "code",
        "colab": {
          "base_uri": "https://localhost:8080/",
          "height": 136
        },
        "outputId": "359e2272-ae02-4000-affc-a6dd3042001f"
      },
      "source": [
        "# Please compare all your models using Prettytable library\n",
        "# http://zetcode.com/python/prettytable/\n",
        "\n",
        "from prettytable import PrettyTable\n",
        "\n",
        "#If you get a ModuleNotFoundError error , install prettytable using: pip3 install prettytable\n",
        "\n",
        "x = PrettyTable()\n",
        "x.field_names = [\"Model Used\", \"ROC-AUC\",\"Test Accuracy(%)\"]\n",
        "\n",
        "x.add_row([\"CatBoost Classifier\",  93.37,93.9])\n",
        "x.add_row([\"XGBoost Classifier\",  90.17, 92.8])\n",
        "x.add_row([\"LGBM Classifier\",  93.24, 93.8])\n",
        "\n",
        "print(x)"
      ],
      "execution_count": 84,
      "outputs": [
        {
          "output_type": "stream",
          "text": [
            "+---------------------+---------+------------------+\n",
            "|      Model Used     | ROC-AUC | Test Accuracy(%) |\n",
            "+---------------------+---------+------------------+\n",
            "| CatBoost Classifier |  93.37  |       93.9       |\n",
            "|  XGBoost Classifier |  90.17  |       92.8       |\n",
            "|   LGBM Classifier   |  93.24  |       93.8       |\n",
            "+---------------------+---------+------------------+\n"
          ],
          "name": "stdout"
        }
      ]
    },
    {
      "cell_type": "markdown",
      "metadata": {
        "id": "8U1aADEZb9Q7",
        "colab_type": "text"
      },
      "source": [
        "## CONCLUSION :\n",
        "- CatBoost is the clear winner here and all the models have done a good job.\n",
        "- Performance can be increaded further by considering text features too which I had to ignore since it would make the dimensions huge and since the number of data points were also large , the system was crashing.\n",
        "- So, even with these features and few of engineered features , the model is performing very good."
      ]
    },
    {
      "cell_type": "code",
      "metadata": {
        "id": "ujPFU1WOc48f",
        "colab_type": "code",
        "colab": {}
      },
      "source": [
        ""
      ],
      "execution_count": null,
      "outputs": []
    }
  ]
}